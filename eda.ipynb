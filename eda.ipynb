{
  "cells": [
    {
      "cell_type": "markdown",
      "metadata": {
        "id": "view-in-github",
        "colab_type": "text"
      },
      "source": [
        "<a href=\"https://colab.research.google.com/github/Bearodriguez2022/PI_1.2/blob/main/eda.ipynb\" target=\"_parent\"><img src=\"https://colab.research.google.com/assets/colab-badge.svg\" alt=\"Open In Colab\"/></a>"
      ]
    },
    {
      "cell_type": "code",
      "execution_count": 5,
      "metadata": {
        "id": "8d4TeO-0o1tG"
      },
      "outputs": [],
      "source": [
        "import pandas as pd\n",
        "import matplotlib as plt\n"
      ]
    },
    {
      "cell_type": "markdown",
      "metadata": {
        "id": "YyCH1NHMo1tW"
      },
      "source": [
        "INGIENERIA DE DATOS."
      ]
    },
    {
      "cell_type": "markdown",
      "metadata": {
        "id": "8_cNiMGro1tf"
      },
      "source": [
        "Ingesta de datos:"
      ]
    },
    {
      "cell_type": "code",
      "source": [
        "from google.colab import drive\n",
        "drive.mount('/content/drive')"
      ],
      "metadata": {
        "colab": {
          "base_uri": "https://localhost:8080/"
        },
        "id": "RC6wKpw0pIs8",
        "outputId": "b4905a00-1ab0-4e47-8c56-f4d79185b25c"
      },
      "execution_count": 4,
      "outputs": [
        {
          "output_type": "stream",
          "name": "stdout",
          "text": [
            "Mounted at /content/drive\n"
          ]
        }
      ]
    },
    {
      "cell_type": "code",
      "execution_count": 6,
      "metadata": {
        "id": "ay2wfcfbo1th"
      },
      "outputs": [],
      "source": [
        "amazon = pd.read_csv('/content/drive/MyDrive/PI_1.2/Data1.2/amazon_prime_titles.csv')"
      ]
    },
    {
      "cell_type": "code",
      "execution_count": 7,
      "metadata": {
        "colab": {
          "base_uri": "https://localhost:8080/"
        },
        "id": "tajbi_hso1tj",
        "outputId": "2e383053-ed89-4355-c28f-89beda609d13"
      },
      "outputs": [
        {
          "output_type": "execute_result",
          "data": {
            "text/plain": [
              "0"
            ]
          },
          "metadata": {},
          "execution_count": 7
        }
      ],
      "source": [
        "amazon['duration'].isna().sum()"
      ]
    },
    {
      "cell_type": "code",
      "execution_count": null,
      "metadata": {
        "id": "dl9T5jMdo1tp"
      },
      "outputs": [],
      "source": [
        "#pase todas a minusculas porque no me dejaa luego pasarla a int a duration_int\n",
        "amazon = amazon.apply(lambda x: x.astype(str).str.lower() if x.dtype == 'object' else x)"
      ]
    },
    {
      "cell_type": "markdown",
      "metadata": {
        "id": "dkWYnHAyo1tr"
      },
      "source": [
        "La columna duration se divide en 'duration_int', 'duration_type':"
      ]
    },
    {
      "cell_type": "code",
      "execution_count": 8,
      "metadata": {
        "id": "9zLY1ozxo1tv"
      },
      "outputs": [],
      "source": [
        "amazon[['duration_int', 'duration_type']] = amazon['duration'].str.split(' ', expand=True)"
      ]
    },
    {
      "cell_type": "code",
      "execution_count": 9,
      "metadata": {
        "colab": {
          "base_uri": "https://localhost:8080/"
        },
        "id": "jIRi5TOFo1ty",
        "outputId": "c457f25d-2306-4a5e-bea1-6f9e447e376b"
      },
      "outputs": [
        {
          "output_type": "execute_result",
          "data": {
            "text/plain": [
              "dtype('O')"
            ]
          },
          "metadata": {},
          "execution_count": 9
        }
      ],
      "source": [
        "amazon['duration_int'].dtype"
      ]
    },
    {
      "cell_type": "markdown",
      "metadata": {
        "id": "mVUQ8CNao1t2"
      },
      "source": [
        "Las nuevas columnas son de tipo 'objet', las cambio a 'int32' y 'str' respectivamente"
      ]
    },
    {
      "cell_type": "code",
      "execution_count": 10,
      "metadata": {
        "id": "TWwAyfQco1t4"
      },
      "outputs": [],
      "source": [
        "amazon['duration_int'] = amazon['duration_int'].astype('int32')"
      ]
    },
    {
      "cell_type": "code",
      "execution_count": 11,
      "metadata": {
        "id": "o3SNo_QAo1t6"
      },
      "outputs": [],
      "source": [
        "amazon['duration_type'] = amazon['duration_type'].astype('str')"
      ]
    },
    {
      "cell_type": "markdown",
      "metadata": {
        "id": "6qio23ujo1t8"
      },
      "source": [
        "Repito los pasos de ingesta de datos, división de columna 'duration' y transformación de datos 'o' a 'int' y 'str' en cada uno de los archivos de plataformas"
      ]
    },
    {
      "cell_type": "code",
      "execution_count": 12,
      "metadata": {
        "id": "5xquJBdho1t-"
      },
      "outputs": [],
      "source": [
        "disney = pd.read_csv('/content/drive/MyDrive/PI_1.2/Data1.2/disney_plus_titles.csv')"
      ]
    },
    {
      "cell_type": "code",
      "execution_count": null,
      "metadata": {
        "id": "gyxbCTYDo1uA"
      },
      "outputs": [],
      "source": [
        "disney.info()"
      ]
    },
    {
      "cell_type": "code",
      "execution_count": 13,
      "metadata": {
        "id": "I_4rFU32o1uC"
      },
      "outputs": [],
      "source": [
        "disney[['duration_int', 'duration_type']] = disney['duration'].str.split(' ', expand=True)"
      ]
    },
    {
      "cell_type": "code",
      "execution_count": 14,
      "metadata": {
        "id": "OuqTiT9ro1uE"
      },
      "outputs": [],
      "source": [
        "disney['duration_int'] = disney['duration_int'].astype('int32')\n"
      ]
    },
    {
      "cell_type": "code",
      "execution_count": 15,
      "metadata": {
        "id": "SH-2aVTMo1uI"
      },
      "outputs": [],
      "source": [
        "disney['duration_type'] = disney['duration_type'].astype('str')"
      ]
    },
    {
      "cell_type": "code",
      "execution_count": 16,
      "metadata": {
        "id": "B6OWllEbo1uJ"
      },
      "outputs": [],
      "source": [
        "hulu = pd.read_csv('/content/drive/MyDrive/PI_1.2/Data1.2/hulu_titles.csv')"
      ]
    },
    {
      "cell_type": "code",
      "execution_count": null,
      "metadata": {
        "id": "pwU1r48po1uL"
      },
      "outputs": [],
      "source": [
        "hulu.isna().sum()"
      ]
    },
    {
      "cell_type": "code",
      "execution_count": null,
      "metadata": {
        "id": "e4nw7mhzo1uN"
      },
      "outputs": [],
      "source": [
        "hulu.fillna(0)"
      ]
    },
    {
      "cell_type": "code",
      "execution_count": 18,
      "metadata": {
        "id": "IZrOAgfvo1uO"
      },
      "outputs": [],
      "source": [
        "hulu[['duration_int', 'duration_type']] =hulu['duration'].str.split(' ', expand=True)"
      ]
    },
    {
      "cell_type": "code",
      "execution_count": 19,
      "metadata": {
        "id": "rU4cXtTdo1uP"
      },
      "outputs": [],
      "source": [
        "hulu['duration_int'] = hulu['duration_int'].astype('Int32')"
      ]
    },
    {
      "cell_type": "code",
      "execution_count": 20,
      "metadata": {
        "id": "1_H9PN3go1uR"
      },
      "outputs": [],
      "source": [
        "hulu['duration_type'] = hulu['duration_type'].astype('str')"
      ]
    },
    {
      "cell_type": "code",
      "execution_count": 21,
      "metadata": {
        "id": "WNzizpGUo1uS"
      },
      "outputs": [],
      "source": [
        "netflix = pd.read_csv('/content/drive/MyDrive/PI_1.2/Data1.2/netflix_titles.csv')"
      ]
    },
    {
      "cell_type": "code",
      "execution_count": null,
      "metadata": {
        "id": "YF7WCn8io1uT"
      },
      "outputs": [],
      "source": [
        "netflix.info()"
      ]
    },
    {
      "cell_type": "code",
      "execution_count": 22,
      "metadata": {
        "id": "-QeOteQ8o1uU"
      },
      "outputs": [],
      "source": [
        "netflix['duration'] =netflix['duration'].dropna()"
      ]
    },
    {
      "cell_type": "code",
      "execution_count": 23,
      "metadata": {
        "id": "jvmoYdpmo1uX"
      },
      "outputs": [],
      "source": [
        "netflix[['duration_int', 'duration_type']] =netflix['duration'].str.split(' ', expand=True)"
      ]
    },
    {
      "cell_type": "code",
      "execution_count": 24,
      "metadata": {
        "id": "j5JMn1Dio1uZ"
      },
      "outputs": [],
      "source": [
        "netflix['duration_int'] =netflix['duration_int'].fillna(0).astype('int32')"
      ]
    },
    {
      "cell_type": "code",
      "execution_count": 25,
      "metadata": {
        "id": "zqjY_Y7io1ua"
      },
      "outputs": [],
      "source": [
        "netflix['duration_type'] = netflix['duration_type'].astype('str')"
      ]
    },
    {
      "cell_type": "markdown",
      "metadata": {
        "id": "2MKc8MSho1ub"
      },
      "source": [
        "Antes de concatenar los df concidero poner el nombre a cada plataforma para una mejor identificación"
      ]
    },
    {
      "cell_type": "code",
      "execution_count": 26,
      "metadata": {
        "id": "5mRNrQoyo1uc"
      },
      "outputs": [],
      "source": [
        "amazon['plataforma'] = 'amazon'\n",
        "disney['plataforma'] = 'disney'\n",
        "hulu['plataforma'] = 'hulu'\n",
        "netflix['plataforma'] = 'netflix'"
      ]
    },
    {
      "cell_type": "markdown",
      "metadata": {
        "id": "YySQAWXMo1ue"
      },
      "source": [
        "Consignas a cumplir:\n",
        "*Generar campo id: Cada id se compondrá de la primera letra del nombre de la plataforma, seguido del show_id ya presente en los datasets (ejemplo para títulos de Amazon = as123)"
      ]
    },
    {
      "cell_type": "code",
      "execution_count": 27,
      "metadata": {
        "id": "HH4fxQggo1uf"
      },
      "outputs": [],
      "source": [
        "amazon['NuevoId'] = 'a' + amazon['show_id']\n",
        "disney['NuevoId'] = 'd' + disney['show_id']\n",
        "hulu['NuevoId'] = 'h' + hulu['show_id']\n",
        "netflix['NuevoId'] = 'n' + netflix['show_id']"
      ]
    },
    {
      "cell_type": "code",
      "execution_count": null,
      "metadata": {
        "id": "5jjWK_mKo1ug"
      },
      "outputs": [],
      "source": [
        "amazon.columns"
      ]
    },
    {
      "cell_type": "markdown",
      "metadata": {
        "id": "hDXQDA5yo1ui"
      },
      "source": [
        "Ahora concateno los df para poder trabajar con ellos de forma mas práctica"
      ]
    },
    {
      "cell_type": "code",
      "execution_count": 28,
      "metadata": {
        "id": "cXBt17voo1uj"
      },
      "outputs": [],
      "source": [
        "streaming = pd.concat([amazon, disney, hulu,netflix])"
      ]
    },
    {
      "cell_type": "markdown",
      "metadata": {
        "id": "FH6lW6oDo1uj"
      },
      "source": [
        "*Los valores nulos del campo rating deberán reemplazarse por el string “G” (corresponde al maturity rating: “general for all audiences”)\n",
        "\n"
      ]
    },
    {
      "cell_type": "code",
      "execution_count": 29,
      "metadata": {
        "id": "2gIqvsPjo1ul"
      },
      "outputs": [],
      "source": [
        "streaming['rating'] = streaming['rating'].fillna('G')"
      ]
    },
    {
      "cell_type": "markdown",
      "metadata": {
        "id": "pBaxxM0Oo1um"
      },
      "source": [
        "*De haber fechas, deberán tener el formato AAAA-mm-dd"
      ]
    },
    {
      "cell_type": "code",
      "execution_count": 30,
      "metadata": {
        "id": "C4nOIe-Oo1un"
      },
      "outputs": [],
      "source": [
        "streaming['date_added'] = pd.to_datetime(streaming['date_added'])"
      ]
    },
    {
      "cell_type": "markdown",
      "metadata": {
        "id": "bAYfDpyso1uo"
      },
      "source": [
        "*Los campos de texto deberán estar en minúsculas, sin excepciones"
      ]
    },
    {
      "cell_type": "code",
      "execution_count": 31,
      "metadata": {
        "id": "PXOQ7ykdo1uo"
      },
      "outputs": [],
      "source": [
        "streaming = streaming.apply(lambda x: x.astype(str).str.lower() if x.dtype == 'object' else x)"
      ]
    },
    {
      "cell_type": "markdown",
      "metadata": {
        "id": "63MM_3__o1up"
      },
      "source": [
        "*El campo duration debe convertirse en dos campos: duration_int y duration_type. El primero será un integer y el segundo un string indicando la unidad de medición de duración: min (minutos) o season (temporadas).Este paso lo realice en cada df por separado."
      ]
    },
    {
      "cell_type": "code",
      "execution_count": 54,
      "metadata": {
        "colab": {
          "base_uri": "https://localhost:8080/"
        },
        "id": "wccK795go1uq",
        "outputId": "133db2ab-5c99-49fb-ec4d-cf71362721fc"
      },
      "outputs": [
        {
          "output_type": "execute_result",
          "data": {
            "text/plain": [
              "Index(['show_id', 'type', 'title', 'director', 'cast', 'country', 'date_added',\n",
              "       'release_year', 'rating', 'duration', 'listed_in', 'description',\n",
              "       'duration_int', 'duration_type', 'plataforma', 'NuevoId'],\n",
              "      dtype='object')"
            ]
          },
          "metadata": {},
          "execution_count": 54
        }
      ],
      "source": [
        "streaming.columns"
      ]
    },
    {
      "cell_type": "code",
      "source": [
        "#aca convierto a csv \n",
        "streaming.to_csv('datos.csv', sep=',', encoding='utf-8', index=False)"
      ],
      "metadata": {
        "id": "doATxr3FRUMT"
      },
      "execution_count": 33,
      "outputs": []
    },
    {
      "cell_type": "markdown",
      "metadata": {
        "id": "ATOsGQBTo1us"
      },
      "source": [
        "Aqui concateno rating "
      ]
    },
    {
      "cell_type": "code",
      "execution_count": 34,
      "metadata": {
        "id": "fvWtPRfBo1ut"
      },
      "outputs": [],
      "source": [
        "r_1 = pd.read_csv('/content/drive/MyDrive/PI_1.2/Data1.2/ratings/1.csv') \n",
        "r_2 = pd.read_csv('/content/drive/MyDrive/PI_1.2/Data1.2/ratings/2.csv')\n",
        "r_3 = pd.read_csv('/content/drive/MyDrive/PI_1.2/Data1.2/ratings/3.csv')\n",
        "r_4 = pd.read_csv('/content/drive/MyDrive/PI_1.2/Data1.2/ratings/4.csv')\n",
        "r_5 = pd.read_csv('/content/drive/MyDrive/PI_1.2/Data1.2/ratings/5.csv')\n",
        "r_6 = pd.read_csv('/content/drive/MyDrive/PI_1.2/Data1.2/ratings/6.csv')\n",
        "r_7 = pd.read_csv('/content/drive/MyDrive/PI_1.2/Data1.2/ratings/7.csv')\n",
        "r_8 = pd.read_csv('/content/drive/MyDrive/PI_1.2/Data1.2/ratings/8.csv')"
      ]
    },
    {
      "cell_type": "code",
      "execution_count": null,
      "metadata": {
        "id": "dVzNVFLto1uu"
      },
      "outputs": [],
      "source": [
        "r_1.head()"
      ]
    },
    {
      "cell_type": "code",
      "execution_count": 48,
      "metadata": {
        "id": "ePExX7Ino1uv"
      },
      "outputs": [],
      "source": [
        "score = pd.concat([r_1,r_2,r_3,r_4,r_5,r_6,r_7,r_8])"
      ]
    },
    {
      "cell_type": "markdown",
      "metadata": {
        "id": "BYYcmHNvo1uw"
      },
      "source": [
        "Aca convierto la columna timestamp a formato AAAA-mm-dd"
      ]
    },
    {
      "cell_type": "code",
      "execution_count": 37,
      "metadata": {
        "id": "te60P66_o1ux"
      },
      "outputs": [],
      "source": [
        "score['timestamp'] = pd.to_datetime(score['timestamp'])"
      ]
    },
    {
      "cell_type": "code",
      "execution_count": 38,
      "metadata": {
        "colab": {
          "base_uri": "https://localhost:8080/",
          "height": 112
        },
        "id": "EW_vZIceo1uy",
        "outputId": "abc919d5-50f0-4afc-a4c3-e5c036331f88"
      },
      "outputs": [
        {
          "output_type": "execute_result",
          "data": {
            "text/plain": [
              "   userId  rating                     timestamp movieId\n",
              "0       1     1.0 1970-01-01 00:00:01.425941529   as680\n",
              "1       1     4.5 1970-01-01 00:00:01.425942435  ns2186"
            ],
            "text/html": [
              "\n",
              "  <div id=\"df-2a70c2be-26c5-40dc-97aa-6d2992efb379\">\n",
              "    <div class=\"colab-df-container\">\n",
              "      <div>\n",
              "<style scoped>\n",
              "    .dataframe tbody tr th:only-of-type {\n",
              "        vertical-align: middle;\n",
              "    }\n",
              "\n",
              "    .dataframe tbody tr th {\n",
              "        vertical-align: top;\n",
              "    }\n",
              "\n",
              "    .dataframe thead th {\n",
              "        text-align: right;\n",
              "    }\n",
              "</style>\n",
              "<table border=\"1\" class=\"dataframe\">\n",
              "  <thead>\n",
              "    <tr style=\"text-align: right;\">\n",
              "      <th></th>\n",
              "      <th>userId</th>\n",
              "      <th>rating</th>\n",
              "      <th>timestamp</th>\n",
              "      <th>movieId</th>\n",
              "    </tr>\n",
              "  </thead>\n",
              "  <tbody>\n",
              "    <tr>\n",
              "      <th>0</th>\n",
              "      <td>1</td>\n",
              "      <td>1.0</td>\n",
              "      <td>1970-01-01 00:00:01.425941529</td>\n",
              "      <td>as680</td>\n",
              "    </tr>\n",
              "    <tr>\n",
              "      <th>1</th>\n",
              "      <td>1</td>\n",
              "      <td>4.5</td>\n",
              "      <td>1970-01-01 00:00:01.425942435</td>\n",
              "      <td>ns2186</td>\n",
              "    </tr>\n",
              "  </tbody>\n",
              "</table>\n",
              "</div>\n",
              "      <button class=\"colab-df-convert\" onclick=\"convertToInteractive('df-2a70c2be-26c5-40dc-97aa-6d2992efb379')\"\n",
              "              title=\"Convert this dataframe to an interactive table.\"\n",
              "              style=\"display:none;\">\n",
              "        \n",
              "  <svg xmlns=\"http://www.w3.org/2000/svg\" height=\"24px\"viewBox=\"0 0 24 24\"\n",
              "       width=\"24px\">\n",
              "    <path d=\"M0 0h24v24H0V0z\" fill=\"none\"/>\n",
              "    <path d=\"M18.56 5.44l.94 2.06.94-2.06 2.06-.94-2.06-.94-.94-2.06-.94 2.06-2.06.94zm-11 1L8.5 8.5l.94-2.06 2.06-.94-2.06-.94L8.5 2.5l-.94 2.06-2.06.94zm10 10l.94 2.06.94-2.06 2.06-.94-2.06-.94-.94-2.06-.94 2.06-2.06.94z\"/><path d=\"M17.41 7.96l-1.37-1.37c-.4-.4-.92-.59-1.43-.59-.52 0-1.04.2-1.43.59L10.3 9.45l-7.72 7.72c-.78.78-.78 2.05 0 2.83L4 21.41c.39.39.9.59 1.41.59.51 0 1.02-.2 1.41-.59l7.78-7.78 2.81-2.81c.8-.78.8-2.07 0-2.86zM5.41 20L4 18.59l7.72-7.72 1.47 1.35L5.41 20z\"/>\n",
              "  </svg>\n",
              "      </button>\n",
              "      \n",
              "  <style>\n",
              "    .colab-df-container {\n",
              "      display:flex;\n",
              "      flex-wrap:wrap;\n",
              "      gap: 12px;\n",
              "    }\n",
              "\n",
              "    .colab-df-convert {\n",
              "      background-color: #E8F0FE;\n",
              "      border: none;\n",
              "      border-radius: 50%;\n",
              "      cursor: pointer;\n",
              "      display: none;\n",
              "      fill: #1967D2;\n",
              "      height: 32px;\n",
              "      padding: 0 0 0 0;\n",
              "      width: 32px;\n",
              "    }\n",
              "\n",
              "    .colab-df-convert:hover {\n",
              "      background-color: #E2EBFA;\n",
              "      box-shadow: 0px 1px 2px rgba(60, 64, 67, 0.3), 0px 1px 3px 1px rgba(60, 64, 67, 0.15);\n",
              "      fill: #174EA6;\n",
              "    }\n",
              "\n",
              "    [theme=dark] .colab-df-convert {\n",
              "      background-color: #3B4455;\n",
              "      fill: #D2E3FC;\n",
              "    }\n",
              "\n",
              "    [theme=dark] .colab-df-convert:hover {\n",
              "      background-color: #434B5C;\n",
              "      box-shadow: 0px 1px 3px 1px rgba(0, 0, 0, 0.15);\n",
              "      filter: drop-shadow(0px 1px 2px rgba(0, 0, 0, 0.3));\n",
              "      fill: #FFFFFF;\n",
              "    }\n",
              "  </style>\n",
              "\n",
              "      <script>\n",
              "        const buttonEl =\n",
              "          document.querySelector('#df-2a70c2be-26c5-40dc-97aa-6d2992efb379 button.colab-df-convert');\n",
              "        buttonEl.style.display =\n",
              "          google.colab.kernel.accessAllowed ? 'block' : 'none';\n",
              "\n",
              "        async function convertToInteractive(key) {\n",
              "          const element = document.querySelector('#df-2a70c2be-26c5-40dc-97aa-6d2992efb379');\n",
              "          const dataTable =\n",
              "            await google.colab.kernel.invokeFunction('convertToInteractive',\n",
              "                                                     [key], {});\n",
              "          if (!dataTable) return;\n",
              "\n",
              "          const docLinkHtml = 'Like what you see? Visit the ' +\n",
              "            '<a target=\"_blank\" href=https://colab.research.google.com/notebooks/data_table.ipynb>data table notebook</a>'\n",
              "            + ' to learn more about interactive tables.';\n",
              "          element.innerHTML = '';\n",
              "          dataTable['output_type'] = 'display_data';\n",
              "          await google.colab.output.renderOutput(dataTable, element);\n",
              "          const docLink = document.createElement('div');\n",
              "          docLink.innerHTML = docLinkHtml;\n",
              "          element.appendChild(docLink);\n",
              "        }\n",
              "      </script>\n",
              "    </div>\n",
              "  </div>\n",
              "  "
            ]
          },
          "metadata": {},
          "execution_count": 38
        }
      ],
      "source": [
        "score.head(2)"
      ]
    },
    {
      "cell_type": "code",
      "execution_count": 40,
      "metadata": {
        "id": "EMQ2hBxqo1uz"
      },
      "outputs": [],
      "source": [
        "# convertir la columna de timestamp a un objeto datetime\n",
        "score['timestamp'] = pd.to_datetime(score['timestamp'])\n",
        "\n",
        "# extraer solo la marca_temporal de la columna de timestamp\n",
        "score['marca_temporal'] = score['timestamp'].dt.date\n",
        "\n",
        "# convertir la marca_temporal de vuelta a una cadena de texto con el formato deseado\n",
        "score['marca_temporal'] = score['marca_temporal'].apply(lambda x: x.strftime('%Y-%m-%d'))\n"
      ]
    },
    {
      "cell_type": "code",
      "execution_count": 41,
      "metadata": {
        "colab": {
          "base_uri": "https://localhost:8080/",
          "height": 80
        },
        "id": "OiwX334_o1u0",
        "outputId": "527e2803-f422-4dc2-f652-20f364ed3832"
      },
      "outputs": [
        {
          "output_type": "execute_result",
          "data": {
            "text/plain": [
              "   userId  rating                     timestamp movieId       fecha  \\\n",
              "0       1     1.0 1970-01-01 00:00:01.425941529   as680  1970-01-01   \n",
              "\n",
              "  marca_temporal  \n",
              "0     1970-01-01  "
            ],
            "text/html": [
              "\n",
              "  <div id=\"df-8ebcd673-c47b-4e68-96b5-93ae8b04a28d\">\n",
              "    <div class=\"colab-df-container\">\n",
              "      <div>\n",
              "<style scoped>\n",
              "    .dataframe tbody tr th:only-of-type {\n",
              "        vertical-align: middle;\n",
              "    }\n",
              "\n",
              "    .dataframe tbody tr th {\n",
              "        vertical-align: top;\n",
              "    }\n",
              "\n",
              "    .dataframe thead th {\n",
              "        text-align: right;\n",
              "    }\n",
              "</style>\n",
              "<table border=\"1\" class=\"dataframe\">\n",
              "  <thead>\n",
              "    <tr style=\"text-align: right;\">\n",
              "      <th></th>\n",
              "      <th>userId</th>\n",
              "      <th>rating</th>\n",
              "      <th>timestamp</th>\n",
              "      <th>movieId</th>\n",
              "      <th>fecha</th>\n",
              "      <th>marca_temporal</th>\n",
              "    </tr>\n",
              "  </thead>\n",
              "  <tbody>\n",
              "    <tr>\n",
              "      <th>0</th>\n",
              "      <td>1</td>\n",
              "      <td>1.0</td>\n",
              "      <td>1970-01-01 00:00:01.425941529</td>\n",
              "      <td>as680</td>\n",
              "      <td>1970-01-01</td>\n",
              "      <td>1970-01-01</td>\n",
              "    </tr>\n",
              "  </tbody>\n",
              "</table>\n",
              "</div>\n",
              "      <button class=\"colab-df-convert\" onclick=\"convertToInteractive('df-8ebcd673-c47b-4e68-96b5-93ae8b04a28d')\"\n",
              "              title=\"Convert this dataframe to an interactive table.\"\n",
              "              style=\"display:none;\">\n",
              "        \n",
              "  <svg xmlns=\"http://www.w3.org/2000/svg\" height=\"24px\"viewBox=\"0 0 24 24\"\n",
              "       width=\"24px\">\n",
              "    <path d=\"M0 0h24v24H0V0z\" fill=\"none\"/>\n",
              "    <path d=\"M18.56 5.44l.94 2.06.94-2.06 2.06-.94-2.06-.94-.94-2.06-.94 2.06-2.06.94zm-11 1L8.5 8.5l.94-2.06 2.06-.94-2.06-.94L8.5 2.5l-.94 2.06-2.06.94zm10 10l.94 2.06.94-2.06 2.06-.94-2.06-.94-.94-2.06-.94 2.06-2.06.94z\"/><path d=\"M17.41 7.96l-1.37-1.37c-.4-.4-.92-.59-1.43-.59-.52 0-1.04.2-1.43.59L10.3 9.45l-7.72 7.72c-.78.78-.78 2.05 0 2.83L4 21.41c.39.39.9.59 1.41.59.51 0 1.02-.2 1.41-.59l7.78-7.78 2.81-2.81c.8-.78.8-2.07 0-2.86zM5.41 20L4 18.59l7.72-7.72 1.47 1.35L5.41 20z\"/>\n",
              "  </svg>\n",
              "      </button>\n",
              "      \n",
              "  <style>\n",
              "    .colab-df-container {\n",
              "      display:flex;\n",
              "      flex-wrap:wrap;\n",
              "      gap: 12px;\n",
              "    }\n",
              "\n",
              "    .colab-df-convert {\n",
              "      background-color: #E8F0FE;\n",
              "      border: none;\n",
              "      border-radius: 50%;\n",
              "      cursor: pointer;\n",
              "      display: none;\n",
              "      fill: #1967D2;\n",
              "      height: 32px;\n",
              "      padding: 0 0 0 0;\n",
              "      width: 32px;\n",
              "    }\n",
              "\n",
              "    .colab-df-convert:hover {\n",
              "      background-color: #E2EBFA;\n",
              "      box-shadow: 0px 1px 2px rgba(60, 64, 67, 0.3), 0px 1px 3px 1px rgba(60, 64, 67, 0.15);\n",
              "      fill: #174EA6;\n",
              "    }\n",
              "\n",
              "    [theme=dark] .colab-df-convert {\n",
              "      background-color: #3B4455;\n",
              "      fill: #D2E3FC;\n",
              "    }\n",
              "\n",
              "    [theme=dark] .colab-df-convert:hover {\n",
              "      background-color: #434B5C;\n",
              "      box-shadow: 0px 1px 3px 1px rgba(0, 0, 0, 0.15);\n",
              "      filter: drop-shadow(0px 1px 2px rgba(0, 0, 0, 0.3));\n",
              "      fill: #FFFFFF;\n",
              "    }\n",
              "  </style>\n",
              "\n",
              "      <script>\n",
              "        const buttonEl =\n",
              "          document.querySelector('#df-8ebcd673-c47b-4e68-96b5-93ae8b04a28d button.colab-df-convert');\n",
              "        buttonEl.style.display =\n",
              "          google.colab.kernel.accessAllowed ? 'block' : 'none';\n",
              "\n",
              "        async function convertToInteractive(key) {\n",
              "          const element = document.querySelector('#df-8ebcd673-c47b-4e68-96b5-93ae8b04a28d');\n",
              "          const dataTable =\n",
              "            await google.colab.kernel.invokeFunction('convertToInteractive',\n",
              "                                                     [key], {});\n",
              "          if (!dataTable) return;\n",
              "\n",
              "          const docLinkHtml = 'Like what you see? Visit the ' +\n",
              "            '<a target=\"_blank\" href=https://colab.research.google.com/notebooks/data_table.ipynb>data table notebook</a>'\n",
              "            + ' to learn more about interactive tables.';\n",
              "          element.innerHTML = '';\n",
              "          dataTable['output_type'] = 'display_data';\n",
              "          await google.colab.output.renderOutput(dataTable, element);\n",
              "          const docLink = document.createElement('div');\n",
              "          docLink.innerHTML = docLinkHtml;\n",
              "          element.appendChild(docLink);\n",
              "        }\n",
              "      </script>\n",
              "    </div>\n",
              "  </div>\n",
              "  "
            ]
          },
          "metadata": {},
          "execution_count": 41
        }
      ],
      "source": [
        "score.head(1)"
      ]
    },
    {
      "cell_type": "code",
      "execution_count": 42,
      "metadata": {
        "id": "mxEXcb3Go1u2"
      },
      "outputs": [],
      "source": [
        "#considero no la voy a necesitar\n",
        "score = score.drop(columns=['timestamp', 'fecha'])"
      ]
    },
    {
      "cell_type": "code",
      "execution_count": 49,
      "metadata": {
        "colab": {
          "base_uri": "https://localhost:8080/",
          "height": 112
        },
        "id": "y3uw-WUmo1u3",
        "outputId": "93c165ec-af9a-415d-ffbe-adfb7ab0e74a"
      },
      "outputs": [
        {
          "output_type": "execute_result",
          "data": {
            "text/plain": [
              "   userId  rating   timestamp movieId\n",
              "0       1     1.0  1425941529   as680\n",
              "1       1     4.5  1425942435  ns2186"
            ],
            "text/html": [
              "\n",
              "  <div id=\"df-839be306-76aa-4bbb-b241-16cf9cb6172f\">\n",
              "    <div class=\"colab-df-container\">\n",
              "      <div>\n",
              "<style scoped>\n",
              "    .dataframe tbody tr th:only-of-type {\n",
              "        vertical-align: middle;\n",
              "    }\n",
              "\n",
              "    .dataframe tbody tr th {\n",
              "        vertical-align: top;\n",
              "    }\n",
              "\n",
              "    .dataframe thead th {\n",
              "        text-align: right;\n",
              "    }\n",
              "</style>\n",
              "<table border=\"1\" class=\"dataframe\">\n",
              "  <thead>\n",
              "    <tr style=\"text-align: right;\">\n",
              "      <th></th>\n",
              "      <th>userId</th>\n",
              "      <th>rating</th>\n",
              "      <th>timestamp</th>\n",
              "      <th>movieId</th>\n",
              "    </tr>\n",
              "  </thead>\n",
              "  <tbody>\n",
              "    <tr>\n",
              "      <th>0</th>\n",
              "      <td>1</td>\n",
              "      <td>1.0</td>\n",
              "      <td>1425941529</td>\n",
              "      <td>as680</td>\n",
              "    </tr>\n",
              "    <tr>\n",
              "      <th>1</th>\n",
              "      <td>1</td>\n",
              "      <td>4.5</td>\n",
              "      <td>1425942435</td>\n",
              "      <td>ns2186</td>\n",
              "    </tr>\n",
              "  </tbody>\n",
              "</table>\n",
              "</div>\n",
              "      <button class=\"colab-df-convert\" onclick=\"convertToInteractive('df-839be306-76aa-4bbb-b241-16cf9cb6172f')\"\n",
              "              title=\"Convert this dataframe to an interactive table.\"\n",
              "              style=\"display:none;\">\n",
              "        \n",
              "  <svg xmlns=\"http://www.w3.org/2000/svg\" height=\"24px\"viewBox=\"0 0 24 24\"\n",
              "       width=\"24px\">\n",
              "    <path d=\"M0 0h24v24H0V0z\" fill=\"none\"/>\n",
              "    <path d=\"M18.56 5.44l.94 2.06.94-2.06 2.06-.94-2.06-.94-.94-2.06-.94 2.06-2.06.94zm-11 1L8.5 8.5l.94-2.06 2.06-.94-2.06-.94L8.5 2.5l-.94 2.06-2.06.94zm10 10l.94 2.06.94-2.06 2.06-.94-2.06-.94-.94-2.06-.94 2.06-2.06.94z\"/><path d=\"M17.41 7.96l-1.37-1.37c-.4-.4-.92-.59-1.43-.59-.52 0-1.04.2-1.43.59L10.3 9.45l-7.72 7.72c-.78.78-.78 2.05 0 2.83L4 21.41c.39.39.9.59 1.41.59.51 0 1.02-.2 1.41-.59l7.78-7.78 2.81-2.81c.8-.78.8-2.07 0-2.86zM5.41 20L4 18.59l7.72-7.72 1.47 1.35L5.41 20z\"/>\n",
              "  </svg>\n",
              "      </button>\n",
              "      \n",
              "  <style>\n",
              "    .colab-df-container {\n",
              "      display:flex;\n",
              "      flex-wrap:wrap;\n",
              "      gap: 12px;\n",
              "    }\n",
              "\n",
              "    .colab-df-convert {\n",
              "      background-color: #E8F0FE;\n",
              "      border: none;\n",
              "      border-radius: 50%;\n",
              "      cursor: pointer;\n",
              "      display: none;\n",
              "      fill: #1967D2;\n",
              "      height: 32px;\n",
              "      padding: 0 0 0 0;\n",
              "      width: 32px;\n",
              "    }\n",
              "\n",
              "    .colab-df-convert:hover {\n",
              "      background-color: #E2EBFA;\n",
              "      box-shadow: 0px 1px 2px rgba(60, 64, 67, 0.3), 0px 1px 3px 1px rgba(60, 64, 67, 0.15);\n",
              "      fill: #174EA6;\n",
              "    }\n",
              "\n",
              "    [theme=dark] .colab-df-convert {\n",
              "      background-color: #3B4455;\n",
              "      fill: #D2E3FC;\n",
              "    }\n",
              "\n",
              "    [theme=dark] .colab-df-convert:hover {\n",
              "      background-color: #434B5C;\n",
              "      box-shadow: 0px 1px 3px 1px rgba(0, 0, 0, 0.15);\n",
              "      filter: drop-shadow(0px 1px 2px rgba(0, 0, 0, 0.3));\n",
              "      fill: #FFFFFF;\n",
              "    }\n",
              "  </style>\n",
              "\n",
              "      <script>\n",
              "        const buttonEl =\n",
              "          document.querySelector('#df-839be306-76aa-4bbb-b241-16cf9cb6172f button.colab-df-convert');\n",
              "        buttonEl.style.display =\n",
              "          google.colab.kernel.accessAllowed ? 'block' : 'none';\n",
              "\n",
              "        async function convertToInteractive(key) {\n",
              "          const element = document.querySelector('#df-839be306-76aa-4bbb-b241-16cf9cb6172f');\n",
              "          const dataTable =\n",
              "            await google.colab.kernel.invokeFunction('convertToInteractive',\n",
              "                                                     [key], {});\n",
              "          if (!dataTable) return;\n",
              "\n",
              "          const docLinkHtml = 'Like what you see? Visit the ' +\n",
              "            '<a target=\"_blank\" href=https://colab.research.google.com/notebooks/data_table.ipynb>data table notebook</a>'\n",
              "            + ' to learn more about interactive tables.';\n",
              "          element.innerHTML = '';\n",
              "          dataTable['output_type'] = 'display_data';\n",
              "          await google.colab.output.renderOutput(dataTable, element);\n",
              "          const docLink = document.createElement('div');\n",
              "          docLink.innerHTML = docLinkHtml;\n",
              "          element.appendChild(docLink);\n",
              "        }\n",
              "      </script>\n",
              "    </div>\n",
              "  </div>\n",
              "  "
            ]
          },
          "metadata": {},
          "execution_count": 49
        }
      ],
      "source": [
        "score.head(2)"
      ]
    },
    {
      "cell_type": "markdown",
      "metadata": {
        "id": "Ak3NQXtpo1u4"
      },
      "source": [
        "saco promedio por id para que queden la misma cantidad de filas que en el df streaming"
      ]
    },
    {
      "cell_type": "code",
      "source": [
        "prome = score.groupby('movieId')['rating'].mean()\n",
        "\n",
        "prome"
      ],
      "metadata": {
        "id": "PteI4aTmVxHu"
      },
      "execution_count": null,
      "outputs": []
    },
    {
      "cell_type": "code",
      "source": [
        "#aca verifico si los valores son correctos para concatenar, y el resultado es si\n",
        "comparacion = score['movieId'].isin(streaming['NuevoId'])\n",
        "comparacion.unique()\n"
      ],
      "metadata": {
        "colab": {
          "base_uri": "https://localhost:8080/"
        },
        "id": "sB2oysMYaclE",
        "outputId": "02ab05db-ffda-4bda-d026-5a1a40e58c4c"
      },
      "execution_count": 57,
      "outputs": [
        {
          "output_type": "execute_result",
          "data": {
            "text/plain": [
              "array([ True])"
            ]
          },
          "metadata": {},
          "execution_count": 57
        }
      ]
    },
    {
      "cell_type": "code",
      "execution_count": 58,
      "metadata": {
        "id": "FQ3Ot7-So1u8"
      },
      "outputs": [],
      "source": [
        "#unimos streaming y promedio por pelicula\n",
        "df1 = pd.merge(streaming, prome, left_on='NuevoId', right_on='movieId', how='left')"
      ]
    },
    {
      "cell_type": "code",
      "execution_count": 59,
      "metadata": {
        "colab": {
          "base_uri": "https://localhost:8080/",
          "height": 349
        },
        "id": "n1H5GQF5o1u9",
        "outputId": "060cbbc2-3adf-4d81-a7af-917ec439893e"
      },
      "outputs": [
        {
          "output_type": "execute_result",
          "data": {
            "text/plain": [
              "  show_id   type                 title      director  \\\n",
              "0      s1  movie   the grand seduction  don mckellar   \n",
              "1      s2  movie  take care good night  girish joshi   \n",
              "\n",
              "                                               cast country date_added  \\\n",
              "0    brendan gleeson, taylor kitsch, gordon pinsent  canada 2021-03-30   \n",
              "1  mahesh manjrekar, abhay mahajan, sachin khedekar   india 2021-03-30   \n",
              "\n",
              "   release_year rating_x duration             listed_in  \\\n",
              "0          2014        g  113 min         comedy, drama   \n",
              "1          2018      13+  110 min  drama, international   \n",
              "\n",
              "                                         description  duration_int  \\\n",
              "0  a small fishing village must procure a local d...           113   \n",
              "1  a metro family decides to fight a cyber crimin...           110   \n",
              "\n",
              "  duration_type plataforma NuevoId  rating_y  \n",
              "0           min     amazon     as1  3.467131  \n",
              "1           min     amazon     as2  3.548682  "
            ],
            "text/html": [
              "\n",
              "  <div id=\"df-22005df4-6985-4207-a94c-65baffe9c525\">\n",
              "    <div class=\"colab-df-container\">\n",
              "      <div>\n",
              "<style scoped>\n",
              "    .dataframe tbody tr th:only-of-type {\n",
              "        vertical-align: middle;\n",
              "    }\n",
              "\n",
              "    .dataframe tbody tr th {\n",
              "        vertical-align: top;\n",
              "    }\n",
              "\n",
              "    .dataframe thead th {\n",
              "        text-align: right;\n",
              "    }\n",
              "</style>\n",
              "<table border=\"1\" class=\"dataframe\">\n",
              "  <thead>\n",
              "    <tr style=\"text-align: right;\">\n",
              "      <th></th>\n",
              "      <th>show_id</th>\n",
              "      <th>type</th>\n",
              "      <th>title</th>\n",
              "      <th>director</th>\n",
              "      <th>cast</th>\n",
              "      <th>country</th>\n",
              "      <th>date_added</th>\n",
              "      <th>release_year</th>\n",
              "      <th>rating_x</th>\n",
              "      <th>duration</th>\n",
              "      <th>listed_in</th>\n",
              "      <th>description</th>\n",
              "      <th>duration_int</th>\n",
              "      <th>duration_type</th>\n",
              "      <th>plataforma</th>\n",
              "      <th>NuevoId</th>\n",
              "      <th>rating_y</th>\n",
              "    </tr>\n",
              "  </thead>\n",
              "  <tbody>\n",
              "    <tr>\n",
              "      <th>0</th>\n",
              "      <td>s1</td>\n",
              "      <td>movie</td>\n",
              "      <td>the grand seduction</td>\n",
              "      <td>don mckellar</td>\n",
              "      <td>brendan gleeson, taylor kitsch, gordon pinsent</td>\n",
              "      <td>canada</td>\n",
              "      <td>2021-03-30</td>\n",
              "      <td>2014</td>\n",
              "      <td>g</td>\n",
              "      <td>113 min</td>\n",
              "      <td>comedy, drama</td>\n",
              "      <td>a small fishing village must procure a local d...</td>\n",
              "      <td>113</td>\n",
              "      <td>min</td>\n",
              "      <td>amazon</td>\n",
              "      <td>as1</td>\n",
              "      <td>3.467131</td>\n",
              "    </tr>\n",
              "    <tr>\n",
              "      <th>1</th>\n",
              "      <td>s2</td>\n",
              "      <td>movie</td>\n",
              "      <td>take care good night</td>\n",
              "      <td>girish joshi</td>\n",
              "      <td>mahesh manjrekar, abhay mahajan, sachin khedekar</td>\n",
              "      <td>india</td>\n",
              "      <td>2021-03-30</td>\n",
              "      <td>2018</td>\n",
              "      <td>13+</td>\n",
              "      <td>110 min</td>\n",
              "      <td>drama, international</td>\n",
              "      <td>a metro family decides to fight a cyber crimin...</td>\n",
              "      <td>110</td>\n",
              "      <td>min</td>\n",
              "      <td>amazon</td>\n",
              "      <td>as2</td>\n",
              "      <td>3.548682</td>\n",
              "    </tr>\n",
              "  </tbody>\n",
              "</table>\n",
              "</div>\n",
              "      <button class=\"colab-df-convert\" onclick=\"convertToInteractive('df-22005df4-6985-4207-a94c-65baffe9c525')\"\n",
              "              title=\"Convert this dataframe to an interactive table.\"\n",
              "              style=\"display:none;\">\n",
              "        \n",
              "  <svg xmlns=\"http://www.w3.org/2000/svg\" height=\"24px\"viewBox=\"0 0 24 24\"\n",
              "       width=\"24px\">\n",
              "    <path d=\"M0 0h24v24H0V0z\" fill=\"none\"/>\n",
              "    <path d=\"M18.56 5.44l.94 2.06.94-2.06 2.06-.94-2.06-.94-.94-2.06-.94 2.06-2.06.94zm-11 1L8.5 8.5l.94-2.06 2.06-.94-2.06-.94L8.5 2.5l-.94 2.06-2.06.94zm10 10l.94 2.06.94-2.06 2.06-.94-2.06-.94-.94-2.06-.94 2.06-2.06.94z\"/><path d=\"M17.41 7.96l-1.37-1.37c-.4-.4-.92-.59-1.43-.59-.52 0-1.04.2-1.43.59L10.3 9.45l-7.72 7.72c-.78.78-.78 2.05 0 2.83L4 21.41c.39.39.9.59 1.41.59.51 0 1.02-.2 1.41-.59l7.78-7.78 2.81-2.81c.8-.78.8-2.07 0-2.86zM5.41 20L4 18.59l7.72-7.72 1.47 1.35L5.41 20z\"/>\n",
              "  </svg>\n",
              "      </button>\n",
              "      \n",
              "  <style>\n",
              "    .colab-df-container {\n",
              "      display:flex;\n",
              "      flex-wrap:wrap;\n",
              "      gap: 12px;\n",
              "    }\n",
              "\n",
              "    .colab-df-convert {\n",
              "      background-color: #E8F0FE;\n",
              "      border: none;\n",
              "      border-radius: 50%;\n",
              "      cursor: pointer;\n",
              "      display: none;\n",
              "      fill: #1967D2;\n",
              "      height: 32px;\n",
              "      padding: 0 0 0 0;\n",
              "      width: 32px;\n",
              "    }\n",
              "\n",
              "    .colab-df-convert:hover {\n",
              "      background-color: #E2EBFA;\n",
              "      box-shadow: 0px 1px 2px rgba(60, 64, 67, 0.3), 0px 1px 3px 1px rgba(60, 64, 67, 0.15);\n",
              "      fill: #174EA6;\n",
              "    }\n",
              "\n",
              "    [theme=dark] .colab-df-convert {\n",
              "      background-color: #3B4455;\n",
              "      fill: #D2E3FC;\n",
              "    }\n",
              "\n",
              "    [theme=dark] .colab-df-convert:hover {\n",
              "      background-color: #434B5C;\n",
              "      box-shadow: 0px 1px 3px 1px rgba(0, 0, 0, 0.15);\n",
              "      filter: drop-shadow(0px 1px 2px rgba(0, 0, 0, 0.3));\n",
              "      fill: #FFFFFF;\n",
              "    }\n",
              "  </style>\n",
              "\n",
              "      <script>\n",
              "        const buttonEl =\n",
              "          document.querySelector('#df-22005df4-6985-4207-a94c-65baffe9c525 button.colab-df-convert');\n",
              "        buttonEl.style.display =\n",
              "          google.colab.kernel.accessAllowed ? 'block' : 'none';\n",
              "\n",
              "        async function convertToInteractive(key) {\n",
              "          const element = document.querySelector('#df-22005df4-6985-4207-a94c-65baffe9c525');\n",
              "          const dataTable =\n",
              "            await google.colab.kernel.invokeFunction('convertToInteractive',\n",
              "                                                     [key], {});\n",
              "          if (!dataTable) return;\n",
              "\n",
              "          const docLinkHtml = 'Like what you see? Visit the ' +\n",
              "            '<a target=\"_blank\" href=https://colab.research.google.com/notebooks/data_table.ipynb>data table notebook</a>'\n",
              "            + ' to learn more about interactive tables.';\n",
              "          element.innerHTML = '';\n",
              "          dataTable['output_type'] = 'display_data';\n",
              "          await google.colab.output.renderOutput(dataTable, element);\n",
              "          const docLink = document.createElement('div');\n",
              "          docLink.innerHTML = docLinkHtml;\n",
              "          element.appendChild(docLink);\n",
              "        }\n",
              "      </script>\n",
              "    </div>\n",
              "  </div>\n",
              "  "
            ]
          },
          "metadata": {},
          "execution_count": 59
        }
      ],
      "source": [
        "df1.head(2)"
      ]
    },
    {
      "cell_type": "code",
      "source": [
        "df1.columns"
      ],
      "metadata": {
        "colab": {
          "base_uri": "https://localhost:8080/"
        },
        "id": "iezgH6vxbaeH",
        "outputId": "ca847a6b-3eda-44af-dfe2-ccf9289f196b"
      },
      "execution_count": 60,
      "outputs": [
        {
          "output_type": "execute_result",
          "data": {
            "text/plain": [
              "Index(['show_id', 'type', 'title', 'director', 'cast', 'country', 'date_added',\n",
              "       'release_year', 'rating_x', 'duration', 'listed_in', 'description',\n",
              "       'duration_int', 'duration_type', 'plataforma', 'NuevoId', 'rating_y'],\n",
              "      dtype='object')"
            ]
          },
          "metadata": {},
          "execution_count": 60
        }
      ]
    },
    {
      "cell_type": "code",
      "execution_count": 61,
      "metadata": {
        "id": "AMJVQ3iJo1vB"
      },
      "outputs": [],
      "source": [
        "#aca renombro las columnas porque quiero esten en castellano solo deje las de duration\n",
        "df1 = df1.rename(columns={'rating_x':'clasificacion','NuevoId':'nuevoid','rating_y':'puntuacion','type':'tipo','title':'titulo','cast':'elenco','country':'pais','date_added':'fecha_agregada','release_year':'año_realiacion','duration':'duracion','listed_in':'genero','description':'descripcion'})"
      ]
    },
    {
      "cell_type": "code",
      "execution_count": 62,
      "metadata": {
        "id": "z3ll7pFuo1vD",
        "colab": {
          "base_uri": "https://localhost:8080/",
          "height": 349
        },
        "outputId": "b0c75ae0-e7ac-4d4f-89c6-90d9bb8da8c2"
      },
      "outputs": [
        {
          "output_type": "execute_result",
          "data": {
            "text/plain": [
              "  show_id   tipo                titulo      director  \\\n",
              "0      s1  movie   the grand seduction  don mckellar   \n",
              "1      s2  movie  take care good night  girish joshi   \n",
              "\n",
              "                                             elenco    pais fecha_agregada  \\\n",
              "0    brendan gleeson, taylor kitsch, gordon pinsent  canada     2021-03-30   \n",
              "1  mahesh manjrekar, abhay mahajan, sachin khedekar   india     2021-03-30   \n",
              "\n",
              "   año_realiacion clasificacion duracion                genero  \\\n",
              "0            2014             g  113 min         comedy, drama   \n",
              "1            2018           13+  110 min  drama, international   \n",
              "\n",
              "                                         descripcion  duration_int  \\\n",
              "0  a small fishing village must procure a local d...           113   \n",
              "1  a metro family decides to fight a cyber crimin...           110   \n",
              "\n",
              "  duration_type plataforma nuevoid  puntuacion  \n",
              "0           min     amazon     as1    3.467131  \n",
              "1           min     amazon     as2    3.548682  "
            ],
            "text/html": [
              "\n",
              "  <div id=\"df-6e78e759-8b28-490f-b8b3-07c74f70b99a\">\n",
              "    <div class=\"colab-df-container\">\n",
              "      <div>\n",
              "<style scoped>\n",
              "    .dataframe tbody tr th:only-of-type {\n",
              "        vertical-align: middle;\n",
              "    }\n",
              "\n",
              "    .dataframe tbody tr th {\n",
              "        vertical-align: top;\n",
              "    }\n",
              "\n",
              "    .dataframe thead th {\n",
              "        text-align: right;\n",
              "    }\n",
              "</style>\n",
              "<table border=\"1\" class=\"dataframe\">\n",
              "  <thead>\n",
              "    <tr style=\"text-align: right;\">\n",
              "      <th></th>\n",
              "      <th>show_id</th>\n",
              "      <th>tipo</th>\n",
              "      <th>titulo</th>\n",
              "      <th>director</th>\n",
              "      <th>elenco</th>\n",
              "      <th>pais</th>\n",
              "      <th>fecha_agregada</th>\n",
              "      <th>año_realiacion</th>\n",
              "      <th>clasificacion</th>\n",
              "      <th>duracion</th>\n",
              "      <th>genero</th>\n",
              "      <th>descripcion</th>\n",
              "      <th>duration_int</th>\n",
              "      <th>duration_type</th>\n",
              "      <th>plataforma</th>\n",
              "      <th>nuevoid</th>\n",
              "      <th>puntuacion</th>\n",
              "    </tr>\n",
              "  </thead>\n",
              "  <tbody>\n",
              "    <tr>\n",
              "      <th>0</th>\n",
              "      <td>s1</td>\n",
              "      <td>movie</td>\n",
              "      <td>the grand seduction</td>\n",
              "      <td>don mckellar</td>\n",
              "      <td>brendan gleeson, taylor kitsch, gordon pinsent</td>\n",
              "      <td>canada</td>\n",
              "      <td>2021-03-30</td>\n",
              "      <td>2014</td>\n",
              "      <td>g</td>\n",
              "      <td>113 min</td>\n",
              "      <td>comedy, drama</td>\n",
              "      <td>a small fishing village must procure a local d...</td>\n",
              "      <td>113</td>\n",
              "      <td>min</td>\n",
              "      <td>amazon</td>\n",
              "      <td>as1</td>\n",
              "      <td>3.467131</td>\n",
              "    </tr>\n",
              "    <tr>\n",
              "      <th>1</th>\n",
              "      <td>s2</td>\n",
              "      <td>movie</td>\n",
              "      <td>take care good night</td>\n",
              "      <td>girish joshi</td>\n",
              "      <td>mahesh manjrekar, abhay mahajan, sachin khedekar</td>\n",
              "      <td>india</td>\n",
              "      <td>2021-03-30</td>\n",
              "      <td>2018</td>\n",
              "      <td>13+</td>\n",
              "      <td>110 min</td>\n",
              "      <td>drama, international</td>\n",
              "      <td>a metro family decides to fight a cyber crimin...</td>\n",
              "      <td>110</td>\n",
              "      <td>min</td>\n",
              "      <td>amazon</td>\n",
              "      <td>as2</td>\n",
              "      <td>3.548682</td>\n",
              "    </tr>\n",
              "  </tbody>\n",
              "</table>\n",
              "</div>\n",
              "      <button class=\"colab-df-convert\" onclick=\"convertToInteractive('df-6e78e759-8b28-490f-b8b3-07c74f70b99a')\"\n",
              "              title=\"Convert this dataframe to an interactive table.\"\n",
              "              style=\"display:none;\">\n",
              "        \n",
              "  <svg xmlns=\"http://www.w3.org/2000/svg\" height=\"24px\"viewBox=\"0 0 24 24\"\n",
              "       width=\"24px\">\n",
              "    <path d=\"M0 0h24v24H0V0z\" fill=\"none\"/>\n",
              "    <path d=\"M18.56 5.44l.94 2.06.94-2.06 2.06-.94-2.06-.94-.94-2.06-.94 2.06-2.06.94zm-11 1L8.5 8.5l.94-2.06 2.06-.94-2.06-.94L8.5 2.5l-.94 2.06-2.06.94zm10 10l.94 2.06.94-2.06 2.06-.94-2.06-.94-.94-2.06-.94 2.06-2.06.94z\"/><path d=\"M17.41 7.96l-1.37-1.37c-.4-.4-.92-.59-1.43-.59-.52 0-1.04.2-1.43.59L10.3 9.45l-7.72 7.72c-.78.78-.78 2.05 0 2.83L4 21.41c.39.39.9.59 1.41.59.51 0 1.02-.2 1.41-.59l7.78-7.78 2.81-2.81c.8-.78.8-2.07 0-2.86zM5.41 20L4 18.59l7.72-7.72 1.47 1.35L5.41 20z\"/>\n",
              "  </svg>\n",
              "      </button>\n",
              "      \n",
              "  <style>\n",
              "    .colab-df-container {\n",
              "      display:flex;\n",
              "      flex-wrap:wrap;\n",
              "      gap: 12px;\n",
              "    }\n",
              "\n",
              "    .colab-df-convert {\n",
              "      background-color: #E8F0FE;\n",
              "      border: none;\n",
              "      border-radius: 50%;\n",
              "      cursor: pointer;\n",
              "      display: none;\n",
              "      fill: #1967D2;\n",
              "      height: 32px;\n",
              "      padding: 0 0 0 0;\n",
              "      width: 32px;\n",
              "    }\n",
              "\n",
              "    .colab-df-convert:hover {\n",
              "      background-color: #E2EBFA;\n",
              "      box-shadow: 0px 1px 2px rgba(60, 64, 67, 0.3), 0px 1px 3px 1px rgba(60, 64, 67, 0.15);\n",
              "      fill: #174EA6;\n",
              "    }\n",
              "\n",
              "    [theme=dark] .colab-df-convert {\n",
              "      background-color: #3B4455;\n",
              "      fill: #D2E3FC;\n",
              "    }\n",
              "\n",
              "    [theme=dark] .colab-df-convert:hover {\n",
              "      background-color: #434B5C;\n",
              "      box-shadow: 0px 1px 3px 1px rgba(0, 0, 0, 0.15);\n",
              "      filter: drop-shadow(0px 1px 2px rgba(0, 0, 0, 0.3));\n",
              "      fill: #FFFFFF;\n",
              "    }\n",
              "  </style>\n",
              "\n",
              "      <script>\n",
              "        const buttonEl =\n",
              "          document.querySelector('#df-6e78e759-8b28-490f-b8b3-07c74f70b99a button.colab-df-convert');\n",
              "        buttonEl.style.display =\n",
              "          google.colab.kernel.accessAllowed ? 'block' : 'none';\n",
              "\n",
              "        async function convertToInteractive(key) {\n",
              "          const element = document.querySelector('#df-6e78e759-8b28-490f-b8b3-07c74f70b99a');\n",
              "          const dataTable =\n",
              "            await google.colab.kernel.invokeFunction('convertToInteractive',\n",
              "                                                     [key], {});\n",
              "          if (!dataTable) return;\n",
              "\n",
              "          const docLinkHtml = 'Like what you see? Visit the ' +\n",
              "            '<a target=\"_blank\" href=https://colab.research.google.com/notebooks/data_table.ipynb>data table notebook</a>'\n",
              "            + ' to learn more about interactive tables.';\n",
              "          element.innerHTML = '';\n",
              "          dataTable['output_type'] = 'display_data';\n",
              "          await google.colab.output.renderOutput(dataTable, element);\n",
              "          const docLink = document.createElement('div');\n",
              "          docLink.innerHTML = docLinkHtml;\n",
              "          element.appendChild(docLink);\n",
              "        }\n",
              "      </script>\n",
              "    </div>\n",
              "  </div>\n",
              "  "
            ]
          },
          "metadata": {},
          "execution_count": 62
        }
      ],
      "source": [
        "df1.head(2)"
      ]
    },
    {
      "cell_type": "code",
      "execution_count": 63,
      "metadata": {
        "id": "xar-NSYCo1vE"
      },
      "outputs": [],
      "source": [
        "df1.to_csv('df1.csv', sep=',', encoding='utf-8', index=False)"
      ]
    },
    {
      "cell_type": "markdown",
      "metadata": {
        "id": "F_CZSYJXo1vH"
      },
      "source": [
        "Desarrolo de la FASTAPI\n",
        "  \n",
        "  *Película (sólo película, no serie, etc) con mayor duración según año, plataforma y tipo de duración. La función debe llamarse get_max_duration(year, platform, duration_type) y debe devolver sólo el string del nombre de la película.\n",
        "\n",
        "  primero cree las funciones en colab para probarlas y luego pasarlas a Fastapi.\n",
        "\n"
      ]
    },
    {
      "cell_type": "code",
      "execution_count": 68,
      "metadata": {
        "id": "fmuB3mVyo1vM"
      },
      "outputs": [],
      "source": [
        "def get_max_duration(year, platform, duration_type):\n",
        "    # Filtramos las películas del año, plataforma y tipo de duración específicos\n",
        "    filtered_df = df1[(df1['tipo'] == 'movie') & (df1['año_realiacion'] == year) & \n",
        "                            (df1['plataforma'] == platform) & (df1['duration_type'] == duration_type)]\n",
        "    \n",
        "    # Ordenamos por duración de mayor a menor y seleccionamos el primer título (el de mayor duración)\n",
        "    max_duration_movie = filtered_df.sort_values(by='duration_int', ascending=False).iloc[0]['titulo']\n",
        "    return max_duration_movie\n"
      ]
    },
    {
      "cell_type": "code",
      "execution_count": 84,
      "metadata": {
        "colab": {
          "base_uri": "https://localhost:8080/",
          "height": 35
        },
        "id": "ZpSIhITmo1vN",
        "outputId": "2b845e43-8969-4ccd-e80e-30f7b4bbc3d7"
      },
      "outputs": [
        {
          "output_type": "execute_result",
          "data": {
            "text/plain": [
              "'cloud atlas'"
            ],
            "application/vnd.google.colaboratory.intrinsic+json": {
              "type": "string"
            }
          },
          "metadata": {},
          "execution_count": 84
        }
      ],
      "source": [
        "get_max_duration(2012,'netflix','min')\n",
        "\n"
      ]
    },
    {
      "cell_type": "markdown",
      "metadata": {
        "id": "ZmAvnYoNo1vO"
      },
      "source": [
        "Cantidad de películas (sólo películas, no series, etc) según plataforma, con un puntaje mayor a XX en determinado año. La función debe llamarse get_score_count(platform, scored, year) y debe devolver un int, con el total de películas que cumplen lo solicitado."
      ]
    },
    {
      "cell_type": "code",
      "execution_count": 70,
      "metadata": {
        "id": "ZGA9htsxo1vQ"
      },
      "outputs": [],
      "source": [
        "def get_score_count(platform, scored, year):\n",
        "    # filtrar las películas según plataforma, puntaje y año\n",
        "    pelis_por_puntaje = df1[(df1[\"plataforma\"] == platform) & (df1[\"puntuacion\"] >= scored) & (df1[\"tipo\"] == \"movie\") & (df1[\"año_realiacion\"] == year)]\n",
        "    \n",
        "    # contar la cantidad de películas\n",
        "    count = len(pelis_por_puntaje)\n",
        "    \n",
        "    return count\n"
      ]
    },
    {
      "cell_type": "code",
      "execution_count": 85,
      "metadata": {
        "colab": {
          "base_uri": "https://localhost:8080/"
        },
        "id": "tTDcypvto1vR",
        "outputId": "44de631a-f63a-482f-f56b-b0e6c5552c5c"
      },
      "outputs": [
        {
          "output_type": "stream",
          "name": "stdout",
          "text": [
            "34\n"
          ]
        }
      ],
      "source": [
        "count = get_score_count(\"disney\", 1.45, 2014)\n",
        "print(count)\n"
      ]
    },
    {
      "cell_type": "markdown",
      "source": [
        "3)Cantidad de películas (sólo películas, no series, etc) según plataforma. La función debe llamarse get_count_platform(platform) y debe devolver un int, con el número total de películas de esa plataforma. Las plataformas deben llamarse amazon, netflix, hulu, disney."
      ],
      "metadata": {
        "id": "qI4bQ8XT5f8o"
      }
    },
    {
      "cell_type": "code",
      "source": [
        "def get_count_platform(platform):\n",
        "    # Filtrar solo películas\n",
        "    df_movies = df1.loc[df1['tipo'] == 'movie']\n",
        "\n",
        "    # Filtrar por plataforma\n",
        "    df_filtered = df_movies.query(\"plataforma == @platform\")\n",
        "\n",
        "    # Contar el número de películas resultantes\n",
        "    count = len(df_filtered)\n",
        "\n",
        "    return count\n"
      ],
      "metadata": {
        "id": "2iYf7eXZ6qH5"
      },
      "execution_count": 72,
      "outputs": []
    },
    {
      "cell_type": "code",
      "source": [
        "count = get_count_platform('hulu')\n",
        "count\n"
      ],
      "metadata": {
        "colab": {
          "base_uri": "https://localhost:8080/"
        },
        "id": "Sh0n_-AM6wm0",
        "outputId": "5d9242fd-c7b9-482b-e17a-ec095c1629ee"
      },
      "execution_count": 86,
      "outputs": [
        {
          "output_type": "execute_result",
          "data": {
            "text/plain": [
              "1484"
            ]
          },
          "metadata": {},
          "execution_count": 86
        }
      ]
    },
    {
      "cell_type": "markdown",
      "source": [
        "4)Actor que más se repite según plataforma y año. La función debe llamarse get_actor(platform, year) y debe devolver sólo el string con el nombre del actor que más se repite según la plataforma y el año dado."
      ],
      "metadata": {
        "id": "6U96LRrF72dW"
      }
    },
    {
      "cell_type": "code",
      "source": [
        "df1['elenco'].dropna(inplace=True)\n"
      ],
      "metadata": {
        "id": "Mz_gWP9JTV6B"
      },
      "execution_count": 203,
      "outputs": []
    },
    {
      "cell_type": "code",
      "source": [
        "df1['elenco'].isna().sum()"
      ],
      "metadata": {
        "colab": {
          "base_uri": "https://localhost:8080/"
        },
        "id": "LgNrSFfBXvNM",
        "outputId": "293cf6f8-05e2-4225-8d05-30736f77e55f"
      },
      "execution_count": 218,
      "outputs": [
        {
          "output_type": "execute_result",
          "data": {
            "text/plain": [
              "0"
            ]
          },
          "metadata": {},
          "execution_count": 218
        }
      ]
    },
    {
      "cell_type": "code",
      "source": [
        "df1['elenco'].unique()"
      ],
      "metadata": {
        "colab": {
          "base_uri": "https://localhost:8080/"
        },
        "id": "KISA5MWugV42",
        "outputId": "ba4f2585-e788-4a29-ce30-267353b8d39a"
      },
      "execution_count": 217,
      "outputs": [
        {
          "output_type": "execute_result",
          "data": {
            "text/plain": [
              "array(['brendan gleeson, taylor kitsch, gordon pinsent',\n",
              "       'mahesh manjrekar, abhay mahajan, sachin khedekar',\n",
              "       'tom sizemore, lorenzo lamas, robert lasardo, richard jones, yancey arias, noel gugliemi',\n",
              "       ...,\n",
              "       'jesse eisenberg, woody harrelson, emma stone, abigail breslin, amber heard, bill murray, derek graf',\n",
              "       'tim allen, courteney cox, chevy chase, kate mara, ryan newman, michael cassidy, spencer breslin, rip torn, kevin zegers',\n",
              "       'vicky kaushal, sarah-jane dias, raaghav chanana, manish chaudhary, meghna malik, malkeet rauni, anita shabdish, chittaranjan tripathy'],\n",
              "      dtype=object)"
            ]
          },
          "metadata": {},
          "execution_count": 217
        }
      ]
    },
    {
      "cell_type": "code",
      "source": [
        "def get_actor(platform, year):\n",
        "  #filtro nulos \n",
        "  #filton = df1[(df1['plataforma'] == plataforma.lower()) & (df1[df1[\"año_realiacion\"] == anio])& df1['elenco'].notna()]\n",
        "    # filtrar por plataforma y año\n",
        "    df_filtered = df1[(df1[\"plataforma\"] == platform) & (df1[\"año_realiacion\"] == year)]\n",
        "\n",
        "    # contar la cantidad de veces que aparece cada actor\n",
        "    actor_count = df_filtered[\"elenco\"].str.split(\", \", expand=True).stack().value_counts()\n",
        "\n",
        "    # obtener el actor que más se repite\n",
        "    actor_most_common = actor_count.idxmax()\n",
        "    respuesta = actor_most_common\n",
        "    return   respuesta\n"
      ],
      "metadata": {
        "id": "ZsmDA4meQI9T"
      },
      "execution_count": 76,
      "outputs": []
    },
    {
      "cell_type": "code",
      "source": [
        "j = get_actor('netflix', 2005)\n",
        "j"
      ],
      "metadata": {
        "colab": {
          "base_uri": "https://localhost:8080/",
          "height": 35
        },
        "id": "j-6PzX9XQQGE",
        "outputId": "5bc2569c-6430-4b5f-8533-a162abfdd6fc"
      },
      "execution_count": 87,
      "outputs": [
        {
          "output_type": "execute_result",
          "data": {
            "text/plain": [
              "'esha deol'"
            ],
            "application/vnd.google.colaboratory.intrinsic+json": {
              "type": "string"
            }
          },
          "metadata": {},
          "execution_count": 87
        }
      ]
    },
    {
      "cell_type": "code",
      "source": [
        "def getactor(platform, year):\n",
        "   \n",
        "    # Filtrar las películas para la plataforma y año especificado\n",
        "    df_filtered = df1[(df1['plataforma'] == platform) & (df1['año_realiacion'] == year)]\n",
        "    #df_filtered = df1[(df1['plataforma'] == platform.lower()) & (df1[df1[\"año_realiacion\"] == year])& df1['elenco'].notna()]    \n",
        "    # Poner el cast en un array para poder hacer el recorrido\n",
        "    df_elenco_filtered= df_filtered.assign(actor=df_filtered.elenco.str.split(',')).explode('elenco').notna()\n",
        "    \n",
        "    # Contar la cantidad de apariciones de cada actor\n",
        "    actor_count = df_elenco_filtered.elenco.value_counts()\n",
        "    \n",
        "    # Obtener el actor que más se repite y su cantidad de apariciones\n",
        "    max_actor = actor_count.index[0]\n",
        "    max_count = int(actor_count.iloc[0])\n",
        "    actor = dict({'actor': max_actor, 'count': max_count})\n",
        "\n",
        "    return actor"
      ],
      "metadata": {
        "id": "qeDH93RL9PtG"
      },
      "execution_count": 82,
      "outputs": []
    },
    {
      "cell_type": "code",
      "source": [
        "g =  getactor('netflix', 2005)\n",
        "g"
      ],
      "metadata": {
        "colab": {
          "base_uri": "https://localhost:8080/"
        },
        "id": "MgYafgAV-PUj",
        "outputId": "669b2140-d592-4a57-938b-5565ff60418c"
      },
      "execution_count": 88,
      "outputs": [
        {
          "output_type": "execute_result",
          "data": {
            "text/plain": [
              "{'actor': True, 'count': 80}"
            ]
          },
          "metadata": {},
          "execution_count": 88
        }
      ]
    },
    {
      "cell_type": "code",
      "source": [
        "df1['pais'].unique()"
      ],
      "metadata": {
        "id": "s58gFXZ0ivEk"
      },
      "execution_count": null,
      "outputs": []
    },
    {
      "cell_type": "markdown",
      "source": [
        "5)La cantidad de contenidos/productos (todo lo disponible en streaming) que se publicó por país y año. La función debe llamarse prod_per_county(tipo,pais,anio) deberia devolver la cantidada de contenidos/productos segun el tipo de contenido (pelicula,serie) por pais y año en un diccionario con las variables llamadas 'pais' (nombre del pais), 'anio' (año), 'pelicula' (cantidad de contenidos/productos)."
      ],
      "metadata": {
        "id": "Js9b6lEijRNX"
      }
    },
    {
      "cell_type": "code",
      "source": [
        "def prod_per_country(tipo, pais, anio):\n",
        "    # Filtrar el DataFrame\n",
        "    df_filt = df1[(df1['tipo'] == tipo) & (df1['pais'] == pais) & (df1['año_realiacion'] == anio)]\n",
        "    \n",
        "    # Agrupar por país y año y contar la cantidad de filas\n",
        "    count = df_filt.groupby(['pais', 'año_realiacion']).size().reset_index(name=f\"{tipo}\")\n",
        "    \n",
        "    # Crear un diccionario con los resultados\n",
        "    result = count[['pais', 'año_realiacion', f\"{tipo}\"]].to_dict('records')\n",
        "    \n",
        "    return result\n"
      ],
      "metadata": {
        "id": "YEpEwsABiKcm"
      },
      "execution_count": 90,
      "outputs": []
    },
    {
      "cell_type": "code",
      "source": [
        "b= prod_per_country('tv show','france',2020)\n",
        "b\n"
      ],
      "metadata": {
        "colab": {
          "base_uri": "https://localhost:8080/"
        },
        "id": "mNWEMIRBiSz3",
        "outputId": "d0b2738c-9b34-4f70-ead4-3227628a37fe"
      },
      "execution_count": 91,
      "outputs": [
        {
          "output_type": "execute_result",
          "data": {
            "text/plain": [
              "[{'pais': 'france', 'año_realiacion': 2020, 'tv show': 8}]"
            ]
          },
          "metadata": {},
          "execution_count": 91
        }
      ]
    },
    {
      "cell_type": "markdown",
      "source": [
        "6)La cantidad total de contenidos/productos (todo lo disponible en streaming, series, peliculas, etc) según el rating de audiencia dado (para que publico fue clasificada la pelicula). La función debe llamarse get_contents(rating) y debe devolver el numero total de contenido con ese rating de audiencias."
      ],
      "metadata": {
        "id": "7aRYZtyMjZ4R"
      }
    },
    {
      "cell_type": "code",
      "source": [
        "df1.columns"
      ],
      "metadata": {
        "colab": {
          "base_uri": "https://localhost:8080/"
        },
        "id": "SPr9qQFUr2PG",
        "outputId": "d9faf31c-c771-43eb-9010-549f8af50a41"
      },
      "execution_count": 104,
      "outputs": [
        {
          "output_type": "execute_result",
          "data": {
            "text/plain": [
              "Index(['show_id', 'tipo', 'titulo', 'director', 'elenco', 'pais',\n",
              "       'fecha_agregada', 'año_realiacion', 'clasificacion', 'duracion',\n",
              "       'genero', 'descripcion', 'duration_int', 'duration_type', 'plataforma',\n",
              "       'nuevoid', 'puntuacion'],\n",
              "      dtype='object')"
            ]
          },
          "metadata": {},
          "execution_count": 104
        }
      ]
    },
    {
      "cell_type": "code",
      "source": [
        "def get_contents(rating):\n",
        "    # Obtener la cantidad de contenidos/productos por rating de audiencia\n",
        "    count_by_rating = df1['clasificacion'].value_counts()\n",
        "    \n",
        "    # Obtener la cantidad correspondiente al rating especificado en la función\n",
        "    count = count_by_rating[rating]\n",
        "    \n",
        "    return count\n"
      ],
      "metadata": {
        "id": "GbMsSxUfj_Wo"
      },
      "execution_count": 109,
      "outputs": []
    },
    {
      "cell_type": "code",
      "source": [
        "d = get_contents('18+')\n",
        "d"
      ],
      "metadata": {
        "colab": {
          "base_uri": "https://localhost:8080/"
        },
        "id": "AkrGwZ07oLZF",
        "outputId": "f77f9de2-2c1c-4df3-ed23-701af61b505f"
      },
      "execution_count": 110,
      "outputs": [
        {
          "output_type": "execute_result",
          "data": {
            "text/plain": [
              "1243"
            ]
          },
          "metadata": {},
          "execution_count": 110
        }
      ]
    }
  ],
  "metadata": {
    "kernelspec": {
      "display_name": "Python 3",
      "language": "python",
      "name": "python3"
    },
    "language_info": {
      "codemirror_mode": {
        "name": "ipython",
        "version": 3
      },
      "file_extension": ".py",
      "mimetype": "text/x-python",
      "name": "python",
      "nbconvert_exporter": "python",
      "pygments_lexer": "ipython3",
      "version": "3.10.10"
    },
    "orig_nbformat": 4,
    "colab": {
      "provenance": [],
      "include_colab_link": true
    }
  },
  "nbformat": 4,
  "nbformat_minor": 0
}