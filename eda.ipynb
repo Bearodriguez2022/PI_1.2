{
  "cells": [
    {
      "cell_type": "markdown",
      "metadata": {
        "id": "view-in-github",
        "colab_type": "text"
      },
      "source": [
        "<a href=\"https://colab.research.google.com/github/Bearodriguez2022/PI_1.2/blob/main/eda.ipynb\" target=\"_parent\"><img src=\"https://colab.research.google.com/assets/colab-badge.svg\" alt=\"Open In Colab\"/></a>"
      ]
    },
    {
      "cell_type": "code",
      "execution_count": null,
      "metadata": {
        "id": "8d4TeO-0o1tG"
      },
      "outputs": [],
      "source": [
        "import pandas as pd\n",
        "import matplotlib as plt\n"
      ]
    },
    {
      "cell_type": "markdown",
      "metadata": {
        "id": "YyCH1NHMo1tW"
      },
      "source": [
        "INGIENERIA DE DATOS."
      ]
    },
    {
      "cell_type": "markdown",
      "metadata": {
        "id": "8_cNiMGro1tf"
      },
      "source": [
        "Ingesta de datos:"
      ]
    },
    {
      "cell_type": "code",
      "source": [
        "from google.colab import drive\n",
        "drive.mount('/content/drive')"
      ],
      "metadata": {
        "colab": {
          "base_uri": "https://localhost:8080/"
        },
        "id": "RC6wKpw0pIs8",
        "outputId": "2668e627-8e71-44f2-810a-b4c3d26b2424"
      },
      "execution_count": null,
      "outputs": [
        {
          "output_type": "stream",
          "name": "stdout",
          "text": [
            "Mounted at /content/drive\n"
          ]
        }
      ]
    },
    {
      "cell_type": "code",
      "execution_count": null,
      "metadata": {
        "id": "ay2wfcfbo1th"
      },
      "outputs": [],
      "source": [
        "amazon = pd.read_csv('/content/drive/MyDrive/PI_1.2/Data1.2/amazon_prime_titles.csv')"
      ]
    },
    {
      "cell_type": "code",
      "execution_count": null,
      "metadata": {
        "colab": {
          "base_uri": "https://localhost:8080/"
        },
        "id": "tajbi_hso1tj",
        "outputId": "55887a18-73aa-4f59-9b9f-51336457372d"
      },
      "outputs": [
        {
          "output_type": "execute_result",
          "data": {
            "text/plain": [
              "0"
            ]
          },
          "metadata": {},
          "execution_count": 7
        }
      ],
      "source": [
        "amazon['duration'].isna().sum()"
      ]
    },
    {
      "cell_type": "code",
      "execution_count": null,
      "metadata": {
        "id": "dl9T5jMdo1tp"
      },
      "outputs": [],
      "source": [
        "#pase todas a minusculas porque no me dejaa luego pasarla a int a duration_int\n",
        "amazon = amazon.apply(lambda x: x.astype(str).str.lower() if x.dtype == 'object' else x)"
      ]
    },
    {
      "cell_type": "markdown",
      "metadata": {
        "id": "dkWYnHAyo1tr"
      },
      "source": [
        "La columna duration se divide en 'duration_int', 'duration_type':"
      ]
    },
    {
      "cell_type": "code",
      "execution_count": null,
      "metadata": {
        "id": "9zLY1ozxo1tv"
      },
      "outputs": [],
      "source": [
        "amazon[['duration_int', 'duration_type']] = amazon['duration'].str.split(' ', expand=True)"
      ]
    },
    {
      "cell_type": "code",
      "execution_count": null,
      "metadata": {
        "colab": {
          "base_uri": "https://localhost:8080/"
        },
        "id": "jIRi5TOFo1ty",
        "outputId": "f2d5ee42-2ccf-4d04-e11e-8d4add1ff814"
      },
      "outputs": [
        {
          "output_type": "execute_result",
          "data": {
            "text/plain": [
              "dtype('O')"
            ]
          },
          "metadata": {},
          "execution_count": 9
        }
      ],
      "source": [
        "amazon['duration_int'].dtype"
      ]
    },
    {
      "cell_type": "markdown",
      "metadata": {
        "id": "mVUQ8CNao1t2"
      },
      "source": [
        "Las nuevas columnas son de tipo 'objet', las cambio a 'int32' y 'str' respectivamente"
      ]
    },
    {
      "cell_type": "code",
      "execution_count": null,
      "metadata": {
        "id": "TWwAyfQco1t4"
      },
      "outputs": [],
      "source": [
        "amazon['duration_int'] = amazon['duration_int'].astype('int32')"
      ]
    },
    {
      "cell_type": "code",
      "execution_count": null,
      "metadata": {
        "id": "o3SNo_QAo1t6"
      },
      "outputs": [],
      "source": [
        "amazon['duration_type'] = amazon['duration_type'].astype('str')"
      ]
    },
    {
      "cell_type": "markdown",
      "metadata": {
        "id": "6qio23ujo1t8"
      },
      "source": [
        "Repito los pasos de ingesta de datos, división de columna 'duration' y transformación de datos 'o' a 'int' y 'str' en cada uno de los archivos de plataformas"
      ]
    },
    {
      "cell_type": "code",
      "execution_count": null,
      "metadata": {
        "id": "5xquJBdho1t-"
      },
      "outputs": [],
      "source": [
        "disney = pd.read_csv('/content/drive/MyDrive/PI_1.2/Data1.2/disney_plus_titles.csv')"
      ]
    },
    {
      "cell_type": "code",
      "execution_count": null,
      "metadata": {
        "id": "gyxbCTYDo1uA",
        "outputId": "d91d4769-e504-47e5-b090-45b5803c1d4e"
      },
      "outputs": [
        {
          "name": "stdout",
          "output_type": "stream",
          "text": [
            "<class 'pandas.core.frame.DataFrame'>\n",
            "RangeIndex: 1450 entries, 0 to 1449\n",
            "Data columns (total 12 columns):\n",
            " #   Column        Non-Null Count  Dtype \n",
            "---  ------        --------------  ----- \n",
            " 0   show_id       1450 non-null   object\n",
            " 1   type          1450 non-null   object\n",
            " 2   title         1450 non-null   object\n",
            " 3   director      977 non-null    object\n",
            " 4   cast          1260 non-null   object\n",
            " 5   country       1231 non-null   object\n",
            " 6   date_added    1447 non-null   object\n",
            " 7   release_year  1450 non-null   int64 \n",
            " 8   rating        1447 non-null   object\n",
            " 9   duration      1450 non-null   object\n",
            " 10  listed_in     1450 non-null   object\n",
            " 11  description   1450 non-null   object\n",
            "dtypes: int64(1), object(11)\n",
            "memory usage: 136.1+ KB\n"
          ]
        }
      ],
      "source": [
        "disney.info()"
      ]
    },
    {
      "cell_type": "code",
      "execution_count": null,
      "metadata": {
        "id": "I_4rFU32o1uC"
      },
      "outputs": [],
      "source": [
        "disney[['duration_int', 'duration_type']] = disney['duration'].str.split(' ', expand=True)"
      ]
    },
    {
      "cell_type": "code",
      "execution_count": null,
      "metadata": {
        "id": "OuqTiT9ro1uE"
      },
      "outputs": [],
      "source": [
        "disney['duration_int'] = disney['duration_int'].astype('int32')\n"
      ]
    },
    {
      "cell_type": "code",
      "execution_count": null,
      "metadata": {
        "id": "SH-2aVTMo1uI"
      },
      "outputs": [],
      "source": [
        "disney['duration_type'] = disney['duration_type'].astype('str')"
      ]
    },
    {
      "cell_type": "code",
      "execution_count": null,
      "metadata": {
        "id": "B6OWllEbo1uJ"
      },
      "outputs": [],
      "source": [
        "hulu = pd.read_csv('/content/drive/MyDrive/PI_1.2/Data1.2/hulu_titles.csv')"
      ]
    },
    {
      "cell_type": "code",
      "execution_count": null,
      "metadata": {
        "colab": {
          "base_uri": "https://localhost:8080/"
        },
        "id": "pwU1r48po1uL",
        "outputId": "8aafa068-a81a-44d2-9abd-70d8a4400658"
      },
      "outputs": [
        {
          "output_type": "execute_result",
          "data": {
            "text/plain": [
              "show_id            0\n",
              "type               0\n",
              "title              0\n",
              "director        3070\n",
              "cast            3073\n",
              "country         1453\n",
              "date_added        28\n",
              "release_year       0\n",
              "rating           520\n",
              "duration         479\n",
              "listed_in          0\n",
              "description        4\n",
              "dtype: int64"
            ]
          },
          "metadata": {},
          "execution_count": 18
        }
      ],
      "source": [
        "hulu.isna().sum()"
      ]
    },
    {
      "cell_type": "code",
      "execution_count": null,
      "metadata": {
        "id": "e4nw7mhzo1uN"
      },
      "outputs": [],
      "source": [
        "hulu.fillna(0)"
      ]
    },
    {
      "cell_type": "code",
      "execution_count": null,
      "metadata": {
        "id": "IZrOAgfvo1uO"
      },
      "outputs": [],
      "source": [
        "hulu[['duration_int', 'duration_type']] =hulu['duration'].str.split(' ', expand=True)"
      ]
    },
    {
      "cell_type": "code",
      "execution_count": null,
      "metadata": {
        "id": "rU4cXtTdo1uP"
      },
      "outputs": [],
      "source": [
        "hulu['duration_int'] = hulu['duration_int'].astype('Int32')"
      ]
    },
    {
      "cell_type": "code",
      "execution_count": null,
      "metadata": {
        "id": "1_H9PN3go1uR"
      },
      "outputs": [],
      "source": [
        "hulu['duration_type'] = hulu['duration_type'].astype('str')"
      ]
    },
    {
      "cell_type": "code",
      "execution_count": null,
      "metadata": {
        "id": "WNzizpGUo1uS"
      },
      "outputs": [],
      "source": [
        "netflix = pd.read_csv('/content/drive/MyDrive/PI_1.2/Data1.2/netflix_titles.csv')"
      ]
    },
    {
      "cell_type": "code",
      "execution_count": null,
      "metadata": {
        "id": "YF7WCn8io1uT"
      },
      "outputs": [],
      "source": [
        "netflix.info()"
      ]
    },
    {
      "cell_type": "code",
      "execution_count": null,
      "metadata": {
        "id": "-QeOteQ8o1uU"
      },
      "outputs": [],
      "source": [
        "netflix['duration'] =netflix['duration'].dropna()"
      ]
    },
    {
      "cell_type": "code",
      "execution_count": null,
      "metadata": {
        "colab": {
          "base_uri": "https://localhost:8080/"
        },
        "id": "8LWXAkmwo1uV",
        "outputId": "87774735-132b-499e-c2d4-7a9a1497a7d9"
      },
      "outputs": [
        {
          "output_type": "execute_result",
          "data": {
            "text/plain": [
              "3"
            ]
          },
          "metadata": {},
          "execution_count": 25
        }
      ],
      "source": [
        "netflix['duration'].isna().sum()"
      ]
    },
    {
      "cell_type": "code",
      "execution_count": null,
      "metadata": {
        "id": "jvmoYdpmo1uX"
      },
      "outputs": [],
      "source": [
        "netflix[['duration_int', 'duration_type']] =netflix['duration'].str.split(' ', expand=True)"
      ]
    },
    {
      "cell_type": "code",
      "execution_count": null,
      "metadata": {
        "id": "j5JMn1Dio1uZ"
      },
      "outputs": [],
      "source": [
        "netflix['duration_int'] =netflix['duration_int'].fillna(0).astype('int32')"
      ]
    },
    {
      "cell_type": "code",
      "execution_count": null,
      "metadata": {
        "id": "zqjY_Y7io1ua"
      },
      "outputs": [],
      "source": [
        "netflix['duration_type'] = netflix['duration_type'].astype('str')"
      ]
    },
    {
      "cell_type": "markdown",
      "metadata": {
        "id": "2MKc8MSho1ub"
      },
      "source": [
        "Antes de concatenar los df concidero poner el nombre a cada plataforma para una mejor identificación"
      ]
    },
    {
      "cell_type": "code",
      "execution_count": null,
      "metadata": {
        "id": "5mRNrQoyo1uc"
      },
      "outputs": [],
      "source": [
        "amazon['plataforma'] = 'amazon'\n",
        "disney['plataforma'] = 'disney'\n",
        "hulu['plataforma'] = 'hulu'\n",
        "netflix['plataforma'] = 'netflix'"
      ]
    },
    {
      "cell_type": "markdown",
      "metadata": {
        "id": "YySQAWXMo1ue"
      },
      "source": [
        "Consignas a cumplir:\n",
        "*Generar campo id: Cada id se compondrá de la primera letra del nombre de la plataforma, seguido del show_id ya presente en los datasets (ejemplo para títulos de Amazon = as123)"
      ]
    },
    {
      "cell_type": "code",
      "execution_count": null,
      "metadata": {
        "id": "HH4fxQggo1uf"
      },
      "outputs": [],
      "source": [
        "amazon['NuevoId'] = 'a' + amazon['show_id']\n",
        "disney['NuevoId'] = 'd' + disney['show_id']\n",
        "hulu['NuevoId'] = 'h' + hulu['show_id']\n",
        "netflix['NuevoId'] = 'n' + netflix['show_id']"
      ]
    },
    {
      "cell_type": "code",
      "execution_count": null,
      "metadata": {
        "id": "5jjWK_mKo1ug",
        "outputId": "6b7ab99e-403d-4aa9-f5ec-b0385f9130f3"
      },
      "outputs": [
        {
          "data": {
            "text/plain": [
              "Index(['show_id', 'type', 'title', 'director', 'cast', 'country', 'date_added',\n",
              "       'release_year', 'rating', 'duration', 'listed_in', 'description',\n",
              "       'duration_int', 'duration_type', 'plataforma', 'NuevoId'],\n",
              "      dtype='object')"
            ]
          },
          "execution_count": 61,
          "metadata": {},
          "output_type": "execute_result"
        }
      ],
      "source": [
        "amazon.columns"
      ]
    },
    {
      "cell_type": "markdown",
      "metadata": {
        "id": "hDXQDA5yo1ui"
      },
      "source": [
        "Ahora concateno los df para poder trabajar con ellos de forma mas práctica"
      ]
    },
    {
      "cell_type": "code",
      "execution_count": null,
      "metadata": {
        "id": "cXBt17voo1uj"
      },
      "outputs": [],
      "source": [
        "streaming = pd.concat([amazon, disney, hulu,netflix])"
      ]
    },
    {
      "cell_type": "markdown",
      "metadata": {
        "id": "FH6lW6oDo1uj"
      },
      "source": [
        "*Los valores nulos del campo rating deberán reemplazarse por el string “G” (corresponde al maturity rating: “general for all audiences”)\n",
        "\n"
      ]
    },
    {
      "cell_type": "code",
      "execution_count": null,
      "metadata": {
        "id": "2gIqvsPjo1ul"
      },
      "outputs": [],
      "source": [
        "streaming['rating'] = streaming['rating'].fillna('G')"
      ]
    },
    {
      "cell_type": "markdown",
      "metadata": {
        "id": "pBaxxM0Oo1um"
      },
      "source": [
        "*De haber fechas, deberán tener el formato AAAA-mm-dd"
      ]
    },
    {
      "cell_type": "code",
      "execution_count": null,
      "metadata": {
        "id": "C4nOIe-Oo1un"
      },
      "outputs": [],
      "source": [
        "streaming['date_added'] = pd.to_datetime(streaming['date_added'])"
      ]
    },
    {
      "cell_type": "markdown",
      "metadata": {
        "id": "bAYfDpyso1uo"
      },
      "source": [
        "*Los campos de texto deberán estar en minúsculas, sin excepciones"
      ]
    },
    {
      "cell_type": "code",
      "execution_count": null,
      "metadata": {
        "id": "PXOQ7ykdo1uo"
      },
      "outputs": [],
      "source": [
        "streaming = streaming.apply(lambda x: x.astype(str).str.lower() if x.dtype == 'object' else x)"
      ]
    },
    {
      "cell_type": "markdown",
      "metadata": {
        "id": "63MM_3__o1up"
      },
      "source": [
        "*El campo duration debe convertirse en dos campos: duration_int y duration_type. El primero será un integer y el segundo un string indicando la unidad de medición de duración: min (minutos) o season (temporadas).Este paso lo realice en cada df por separado."
      ]
    },
    {
      "cell_type": "code",
      "execution_count": null,
      "metadata": {
        "colab": {
          "base_uri": "https://localhost:8080/"
        },
        "id": "wccK795go1uq",
        "outputId": "89f92c81-72f8-4414-d509-87bb78cd48d5"
      },
      "outputs": [
        {
          "output_type": "execute_result",
          "data": {
            "text/plain": [
              "(22998, 16)"
            ]
          },
          "metadata": {},
          "execution_count": 35
        }
      ],
      "source": [
        "streaming.shape"
      ]
    },
    {
      "cell_type": "markdown",
      "metadata": {
        "id": "ATOsGQBTo1us"
      },
      "source": [
        "Aqui concateno rating "
      ]
    },
    {
      "cell_type": "code",
      "execution_count": null,
      "metadata": {
        "id": "fvWtPRfBo1ut"
      },
      "outputs": [],
      "source": [
        "r_1 = pd.read_csv('/content/drive/MyDrive/PI_1.2/Data1.2/ratings/1.csv') \n",
        "r_2 = pd.read_csv('/content/drive/MyDrive/PI_1.2/Data1.2/ratings/2.csv')\n",
        "r_3 = pd.read_csv('/content/drive/MyDrive/PI_1.2/Data1.2/ratings/3.csv')\n",
        "r_4 = pd.read_csv('/content/drive/MyDrive/PI_1.2/Data1.2/ratings/4.csv')\n",
        "r_5 = pd.read_csv('/content/drive/MyDrive/PI_1.2/Data1.2/ratings/5.csv')\n",
        "r_6 = pd.read_csv('/content/drive/MyDrive/PI_1.2/Data1.2/ratings/6.csv')\n",
        "r_7 = pd.read_csv('/content/drive/MyDrive/PI_1.2/Data1.2/ratings/7.csv')\n",
        "r_8 = pd.read_csv('/content/drive/MyDrive/PI_1.2/Data1.2/ratings/8.csv')"
      ]
    },
    {
      "cell_type": "code",
      "execution_count": null,
      "metadata": {
        "colab": {
          "base_uri": "https://localhost:8080/",
          "height": 206
        },
        "id": "dVzNVFLto1uu",
        "outputId": "a542e338-5bfd-45f9-85c0-d66a1ba04f75"
      },
      "outputs": [
        {
          "output_type": "execute_result",
          "data": {
            "text/plain": [
              "   userId  rating   timestamp movieId\n",
              "0       1     1.0  1425941529   as680\n",
              "1       1     4.5  1425942435  ns2186\n",
              "2       1     5.0  1425941523  hs2381\n",
              "3       1     5.0  1425941546  ns3663\n",
              "4       1     5.0  1425941556  as9500"
            ],
            "text/html": [
              "\n",
              "  <div id=\"df-91d56d9f-e38f-46d9-bfd2-f9ae502d242d\">\n",
              "    <div class=\"colab-df-container\">\n",
              "      <div>\n",
              "<style scoped>\n",
              "    .dataframe tbody tr th:only-of-type {\n",
              "        vertical-align: middle;\n",
              "    }\n",
              "\n",
              "    .dataframe tbody tr th {\n",
              "        vertical-align: top;\n",
              "    }\n",
              "\n",
              "    .dataframe thead th {\n",
              "        text-align: right;\n",
              "    }\n",
              "</style>\n",
              "<table border=\"1\" class=\"dataframe\">\n",
              "  <thead>\n",
              "    <tr style=\"text-align: right;\">\n",
              "      <th></th>\n",
              "      <th>userId</th>\n",
              "      <th>rating</th>\n",
              "      <th>timestamp</th>\n",
              "      <th>movieId</th>\n",
              "    </tr>\n",
              "  </thead>\n",
              "  <tbody>\n",
              "    <tr>\n",
              "      <th>0</th>\n",
              "      <td>1</td>\n",
              "      <td>1.0</td>\n",
              "      <td>1425941529</td>\n",
              "      <td>as680</td>\n",
              "    </tr>\n",
              "    <tr>\n",
              "      <th>1</th>\n",
              "      <td>1</td>\n",
              "      <td>4.5</td>\n",
              "      <td>1425942435</td>\n",
              "      <td>ns2186</td>\n",
              "    </tr>\n",
              "    <tr>\n",
              "      <th>2</th>\n",
              "      <td>1</td>\n",
              "      <td>5.0</td>\n",
              "      <td>1425941523</td>\n",
              "      <td>hs2381</td>\n",
              "    </tr>\n",
              "    <tr>\n",
              "      <th>3</th>\n",
              "      <td>1</td>\n",
              "      <td>5.0</td>\n",
              "      <td>1425941546</td>\n",
              "      <td>ns3663</td>\n",
              "    </tr>\n",
              "    <tr>\n",
              "      <th>4</th>\n",
              "      <td>1</td>\n",
              "      <td>5.0</td>\n",
              "      <td>1425941556</td>\n",
              "      <td>as9500</td>\n",
              "    </tr>\n",
              "  </tbody>\n",
              "</table>\n",
              "</div>\n",
              "      <button class=\"colab-df-convert\" onclick=\"convertToInteractive('df-91d56d9f-e38f-46d9-bfd2-f9ae502d242d')\"\n",
              "              title=\"Convert this dataframe to an interactive table.\"\n",
              "              style=\"display:none;\">\n",
              "        \n",
              "  <svg xmlns=\"http://www.w3.org/2000/svg\" height=\"24px\"viewBox=\"0 0 24 24\"\n",
              "       width=\"24px\">\n",
              "    <path d=\"M0 0h24v24H0V0z\" fill=\"none\"/>\n",
              "    <path d=\"M18.56 5.44l.94 2.06.94-2.06 2.06-.94-2.06-.94-.94-2.06-.94 2.06-2.06.94zm-11 1L8.5 8.5l.94-2.06 2.06-.94-2.06-.94L8.5 2.5l-.94 2.06-2.06.94zm10 10l.94 2.06.94-2.06 2.06-.94-2.06-.94-.94-2.06-.94 2.06-2.06.94z\"/><path d=\"M17.41 7.96l-1.37-1.37c-.4-.4-.92-.59-1.43-.59-.52 0-1.04.2-1.43.59L10.3 9.45l-7.72 7.72c-.78.78-.78 2.05 0 2.83L4 21.41c.39.39.9.59 1.41.59.51 0 1.02-.2 1.41-.59l7.78-7.78 2.81-2.81c.8-.78.8-2.07 0-2.86zM5.41 20L4 18.59l7.72-7.72 1.47 1.35L5.41 20z\"/>\n",
              "  </svg>\n",
              "      </button>\n",
              "      \n",
              "  <style>\n",
              "    .colab-df-container {\n",
              "      display:flex;\n",
              "      flex-wrap:wrap;\n",
              "      gap: 12px;\n",
              "    }\n",
              "\n",
              "    .colab-df-convert {\n",
              "      background-color: #E8F0FE;\n",
              "      border: none;\n",
              "      border-radius: 50%;\n",
              "      cursor: pointer;\n",
              "      display: none;\n",
              "      fill: #1967D2;\n",
              "      height: 32px;\n",
              "      padding: 0 0 0 0;\n",
              "      width: 32px;\n",
              "    }\n",
              "\n",
              "    .colab-df-convert:hover {\n",
              "      background-color: #E2EBFA;\n",
              "      box-shadow: 0px 1px 2px rgba(60, 64, 67, 0.3), 0px 1px 3px 1px rgba(60, 64, 67, 0.15);\n",
              "      fill: #174EA6;\n",
              "    }\n",
              "\n",
              "    [theme=dark] .colab-df-convert {\n",
              "      background-color: #3B4455;\n",
              "      fill: #D2E3FC;\n",
              "    }\n",
              "\n",
              "    [theme=dark] .colab-df-convert:hover {\n",
              "      background-color: #434B5C;\n",
              "      box-shadow: 0px 1px 3px 1px rgba(0, 0, 0, 0.15);\n",
              "      filter: drop-shadow(0px 1px 2px rgba(0, 0, 0, 0.3));\n",
              "      fill: #FFFFFF;\n",
              "    }\n",
              "  </style>\n",
              "\n",
              "      <script>\n",
              "        const buttonEl =\n",
              "          document.querySelector('#df-91d56d9f-e38f-46d9-bfd2-f9ae502d242d button.colab-df-convert');\n",
              "        buttonEl.style.display =\n",
              "          google.colab.kernel.accessAllowed ? 'block' : 'none';\n",
              "\n",
              "        async function convertToInteractive(key) {\n",
              "          const element = document.querySelector('#df-91d56d9f-e38f-46d9-bfd2-f9ae502d242d');\n",
              "          const dataTable =\n",
              "            await google.colab.kernel.invokeFunction('convertToInteractive',\n",
              "                                                     [key], {});\n",
              "          if (!dataTable) return;\n",
              "\n",
              "          const docLinkHtml = 'Like what you see? Visit the ' +\n",
              "            '<a target=\"_blank\" href=https://colab.research.google.com/notebooks/data_table.ipynb>data table notebook</a>'\n",
              "            + ' to learn more about interactive tables.';\n",
              "          element.innerHTML = '';\n",
              "          dataTable['output_type'] = 'display_data';\n",
              "          await google.colab.output.renderOutput(dataTable, element);\n",
              "          const docLink = document.createElement('div');\n",
              "          docLink.innerHTML = docLinkHtml;\n",
              "          element.appendChild(docLink);\n",
              "        }\n",
              "      </script>\n",
              "    </div>\n",
              "  </div>\n",
              "  "
            ]
          },
          "metadata": {},
          "execution_count": 38
        }
      ],
      "source": [
        "r_1.head()"
      ]
    },
    {
      "cell_type": "code",
      "execution_count": null,
      "metadata": {
        "id": "ePExX7Ino1uv"
      },
      "outputs": [],
      "source": [
        "#cambiar los nombres en el resto\n",
        "score = pd.concat([r_1,r_2,r_3,r_4,r_5,r_6,r_7,r_8])"
      ]
    },
    {
      "cell_type": "markdown",
      "metadata": {
        "id": "BYYcmHNvo1uw"
      },
      "source": [
        "Aca convierto la columna timestamp a formato AAAA-mm-dd"
      ]
    },
    {
      "cell_type": "code",
      "execution_count": null,
      "metadata": {
        "id": "te60P66_o1ux"
      },
      "outputs": [],
      "source": [
        "score['timestamp'] = pd.to_datetime(score['timestamp'])"
      ]
    },
    {
      "cell_type": "code",
      "execution_count": null,
      "metadata": {
        "colab": {
          "base_uri": "https://localhost:8080/",
          "height": 112
        },
        "id": "EW_vZIceo1uy",
        "outputId": "9bb4533b-e74b-4616-da87-a5f968e42b3c"
      },
      "outputs": [
        {
          "output_type": "execute_result",
          "data": {
            "text/plain": [
              "   userId  rating                     timestamp movieId\n",
              "0       1     1.0 1970-01-01 00:00:01.425941529   as680\n",
              "1       1     4.5 1970-01-01 00:00:01.425942435  ns2186"
            ],
            "text/html": [
              "\n",
              "  <div id=\"df-8b44f156-23ab-4864-8eb8-cfbd23af6f9e\">\n",
              "    <div class=\"colab-df-container\">\n",
              "      <div>\n",
              "<style scoped>\n",
              "    .dataframe tbody tr th:only-of-type {\n",
              "        vertical-align: middle;\n",
              "    }\n",
              "\n",
              "    .dataframe tbody tr th {\n",
              "        vertical-align: top;\n",
              "    }\n",
              "\n",
              "    .dataframe thead th {\n",
              "        text-align: right;\n",
              "    }\n",
              "</style>\n",
              "<table border=\"1\" class=\"dataframe\">\n",
              "  <thead>\n",
              "    <tr style=\"text-align: right;\">\n",
              "      <th></th>\n",
              "      <th>userId</th>\n",
              "      <th>rating</th>\n",
              "      <th>timestamp</th>\n",
              "      <th>movieId</th>\n",
              "    </tr>\n",
              "  </thead>\n",
              "  <tbody>\n",
              "    <tr>\n",
              "      <th>0</th>\n",
              "      <td>1</td>\n",
              "      <td>1.0</td>\n",
              "      <td>1970-01-01 00:00:01.425941529</td>\n",
              "      <td>as680</td>\n",
              "    </tr>\n",
              "    <tr>\n",
              "      <th>1</th>\n",
              "      <td>1</td>\n",
              "      <td>4.5</td>\n",
              "      <td>1970-01-01 00:00:01.425942435</td>\n",
              "      <td>ns2186</td>\n",
              "    </tr>\n",
              "  </tbody>\n",
              "</table>\n",
              "</div>\n",
              "      <button class=\"colab-df-convert\" onclick=\"convertToInteractive('df-8b44f156-23ab-4864-8eb8-cfbd23af6f9e')\"\n",
              "              title=\"Convert this dataframe to an interactive table.\"\n",
              "              style=\"display:none;\">\n",
              "        \n",
              "  <svg xmlns=\"http://www.w3.org/2000/svg\" height=\"24px\"viewBox=\"0 0 24 24\"\n",
              "       width=\"24px\">\n",
              "    <path d=\"M0 0h24v24H0V0z\" fill=\"none\"/>\n",
              "    <path d=\"M18.56 5.44l.94 2.06.94-2.06 2.06-.94-2.06-.94-.94-2.06-.94 2.06-2.06.94zm-11 1L8.5 8.5l.94-2.06 2.06-.94-2.06-.94L8.5 2.5l-.94 2.06-2.06.94zm10 10l.94 2.06.94-2.06 2.06-.94-2.06-.94-.94-2.06-.94 2.06-2.06.94z\"/><path d=\"M17.41 7.96l-1.37-1.37c-.4-.4-.92-.59-1.43-.59-.52 0-1.04.2-1.43.59L10.3 9.45l-7.72 7.72c-.78.78-.78 2.05 0 2.83L4 21.41c.39.39.9.59 1.41.59.51 0 1.02-.2 1.41-.59l7.78-7.78 2.81-2.81c.8-.78.8-2.07 0-2.86zM5.41 20L4 18.59l7.72-7.72 1.47 1.35L5.41 20z\"/>\n",
              "  </svg>\n",
              "      </button>\n",
              "      \n",
              "  <style>\n",
              "    .colab-df-container {\n",
              "      display:flex;\n",
              "      flex-wrap:wrap;\n",
              "      gap: 12px;\n",
              "    }\n",
              "\n",
              "    .colab-df-convert {\n",
              "      background-color: #E8F0FE;\n",
              "      border: none;\n",
              "      border-radius: 50%;\n",
              "      cursor: pointer;\n",
              "      display: none;\n",
              "      fill: #1967D2;\n",
              "      height: 32px;\n",
              "      padding: 0 0 0 0;\n",
              "      width: 32px;\n",
              "    }\n",
              "\n",
              "    .colab-df-convert:hover {\n",
              "      background-color: #E2EBFA;\n",
              "      box-shadow: 0px 1px 2px rgba(60, 64, 67, 0.3), 0px 1px 3px 1px rgba(60, 64, 67, 0.15);\n",
              "      fill: #174EA6;\n",
              "    }\n",
              "\n",
              "    [theme=dark] .colab-df-convert {\n",
              "      background-color: #3B4455;\n",
              "      fill: #D2E3FC;\n",
              "    }\n",
              "\n",
              "    [theme=dark] .colab-df-convert:hover {\n",
              "      background-color: #434B5C;\n",
              "      box-shadow: 0px 1px 3px 1px rgba(0, 0, 0, 0.15);\n",
              "      filter: drop-shadow(0px 1px 2px rgba(0, 0, 0, 0.3));\n",
              "      fill: #FFFFFF;\n",
              "    }\n",
              "  </style>\n",
              "\n",
              "      <script>\n",
              "        const buttonEl =\n",
              "          document.querySelector('#df-8b44f156-23ab-4864-8eb8-cfbd23af6f9e button.colab-df-convert');\n",
              "        buttonEl.style.display =\n",
              "          google.colab.kernel.accessAllowed ? 'block' : 'none';\n",
              "\n",
              "        async function convertToInteractive(key) {\n",
              "          const element = document.querySelector('#df-8b44f156-23ab-4864-8eb8-cfbd23af6f9e');\n",
              "          const dataTable =\n",
              "            await google.colab.kernel.invokeFunction('convertToInteractive',\n",
              "                                                     [key], {});\n",
              "          if (!dataTable) return;\n",
              "\n",
              "          const docLinkHtml = 'Like what you see? Visit the ' +\n",
              "            '<a target=\"_blank\" href=https://colab.research.google.com/notebooks/data_table.ipynb>data table notebook</a>'\n",
              "            + ' to learn more about interactive tables.';\n",
              "          element.innerHTML = '';\n",
              "          dataTable['output_type'] = 'display_data';\n",
              "          await google.colab.output.renderOutput(dataTable, element);\n",
              "          const docLink = document.createElement('div');\n",
              "          docLink.innerHTML = docLinkHtml;\n",
              "          element.appendChild(docLink);\n",
              "        }\n",
              "      </script>\n",
              "    </div>\n",
              "  </div>\n",
              "  "
            ]
          },
          "metadata": {},
          "execution_count": 41
        }
      ],
      "source": [
        "score.head(2)"
      ]
    },
    {
      "cell_type": "code",
      "execution_count": null,
      "metadata": {
        "id": "EMQ2hBxqo1uz"
      },
      "outputs": [],
      "source": [
        "# convertir la columna de timestamp a un objeto datetime\n",
        "score['timestamp'] = pd.to_datetime(score['timestamp'])\n",
        "\n",
        "# extraer solo la fecha de la columna de timestamp\n",
        "score['fecha'] = score['timestamp'].dt.date\n",
        "\n",
        "# convertir la fecha de vuelta a una cadena de texto con el formato deseado\n",
        "score['fecha'] = score['fecha'].apply(lambda x: x.strftime('%Y-%m-%d'))\n"
      ]
    },
    {
      "cell_type": "code",
      "execution_count": null,
      "metadata": {
        "colab": {
          "base_uri": "https://localhost:8080/",
          "height": 80
        },
        "id": "OiwX334_o1u0",
        "outputId": "102c865a-7879-4904-e10f-f1bf9cede1b5"
      },
      "outputs": [
        {
          "output_type": "execute_result",
          "data": {
            "text/plain": [
              "   userId  rating                     timestamp movieId       fecha\n",
              "0       1     1.0 1970-01-01 00:00:01.425941529   as680  1970-01-01"
            ],
            "text/html": [
              "\n",
              "  <div id=\"df-1f1f069b-0586-443b-a085-12caa0d0e0d1\">\n",
              "    <div class=\"colab-df-container\">\n",
              "      <div>\n",
              "<style scoped>\n",
              "    .dataframe tbody tr th:only-of-type {\n",
              "        vertical-align: middle;\n",
              "    }\n",
              "\n",
              "    .dataframe tbody tr th {\n",
              "        vertical-align: top;\n",
              "    }\n",
              "\n",
              "    .dataframe thead th {\n",
              "        text-align: right;\n",
              "    }\n",
              "</style>\n",
              "<table border=\"1\" class=\"dataframe\">\n",
              "  <thead>\n",
              "    <tr style=\"text-align: right;\">\n",
              "      <th></th>\n",
              "      <th>userId</th>\n",
              "      <th>rating</th>\n",
              "      <th>timestamp</th>\n",
              "      <th>movieId</th>\n",
              "      <th>fecha</th>\n",
              "    </tr>\n",
              "  </thead>\n",
              "  <tbody>\n",
              "    <tr>\n",
              "      <th>0</th>\n",
              "      <td>1</td>\n",
              "      <td>1.0</td>\n",
              "      <td>1970-01-01 00:00:01.425941529</td>\n",
              "      <td>as680</td>\n",
              "      <td>1970-01-01</td>\n",
              "    </tr>\n",
              "  </tbody>\n",
              "</table>\n",
              "</div>\n",
              "      <button class=\"colab-df-convert\" onclick=\"convertToInteractive('df-1f1f069b-0586-443b-a085-12caa0d0e0d1')\"\n",
              "              title=\"Convert this dataframe to an interactive table.\"\n",
              "              style=\"display:none;\">\n",
              "        \n",
              "  <svg xmlns=\"http://www.w3.org/2000/svg\" height=\"24px\"viewBox=\"0 0 24 24\"\n",
              "       width=\"24px\">\n",
              "    <path d=\"M0 0h24v24H0V0z\" fill=\"none\"/>\n",
              "    <path d=\"M18.56 5.44l.94 2.06.94-2.06 2.06-.94-2.06-.94-.94-2.06-.94 2.06-2.06.94zm-11 1L8.5 8.5l.94-2.06 2.06-.94-2.06-.94L8.5 2.5l-.94 2.06-2.06.94zm10 10l.94 2.06.94-2.06 2.06-.94-2.06-.94-.94-2.06-.94 2.06-2.06.94z\"/><path d=\"M17.41 7.96l-1.37-1.37c-.4-.4-.92-.59-1.43-.59-.52 0-1.04.2-1.43.59L10.3 9.45l-7.72 7.72c-.78.78-.78 2.05 0 2.83L4 21.41c.39.39.9.59 1.41.59.51 0 1.02-.2 1.41-.59l7.78-7.78 2.81-2.81c.8-.78.8-2.07 0-2.86zM5.41 20L4 18.59l7.72-7.72 1.47 1.35L5.41 20z\"/>\n",
              "  </svg>\n",
              "      </button>\n",
              "      \n",
              "  <style>\n",
              "    .colab-df-container {\n",
              "      display:flex;\n",
              "      flex-wrap:wrap;\n",
              "      gap: 12px;\n",
              "    }\n",
              "\n",
              "    .colab-df-convert {\n",
              "      background-color: #E8F0FE;\n",
              "      border: none;\n",
              "      border-radius: 50%;\n",
              "      cursor: pointer;\n",
              "      display: none;\n",
              "      fill: #1967D2;\n",
              "      height: 32px;\n",
              "      padding: 0 0 0 0;\n",
              "      width: 32px;\n",
              "    }\n",
              "\n",
              "    .colab-df-convert:hover {\n",
              "      background-color: #E2EBFA;\n",
              "      box-shadow: 0px 1px 2px rgba(60, 64, 67, 0.3), 0px 1px 3px 1px rgba(60, 64, 67, 0.15);\n",
              "      fill: #174EA6;\n",
              "    }\n",
              "\n",
              "    [theme=dark] .colab-df-convert {\n",
              "      background-color: #3B4455;\n",
              "      fill: #D2E3FC;\n",
              "    }\n",
              "\n",
              "    [theme=dark] .colab-df-convert:hover {\n",
              "      background-color: #434B5C;\n",
              "      box-shadow: 0px 1px 3px 1px rgba(0, 0, 0, 0.15);\n",
              "      filter: drop-shadow(0px 1px 2px rgba(0, 0, 0, 0.3));\n",
              "      fill: #FFFFFF;\n",
              "    }\n",
              "  </style>\n",
              "\n",
              "      <script>\n",
              "        const buttonEl =\n",
              "          document.querySelector('#df-1f1f069b-0586-443b-a085-12caa0d0e0d1 button.colab-df-convert');\n",
              "        buttonEl.style.display =\n",
              "          google.colab.kernel.accessAllowed ? 'block' : 'none';\n",
              "\n",
              "        async function convertToInteractive(key) {\n",
              "          const element = document.querySelector('#df-1f1f069b-0586-443b-a085-12caa0d0e0d1');\n",
              "          const dataTable =\n",
              "            await google.colab.kernel.invokeFunction('convertToInteractive',\n",
              "                                                     [key], {});\n",
              "          if (!dataTable) return;\n",
              "\n",
              "          const docLinkHtml = 'Like what you see? Visit the ' +\n",
              "            '<a target=\"_blank\" href=https://colab.research.google.com/notebooks/data_table.ipynb>data table notebook</a>'\n",
              "            + ' to learn more about interactive tables.';\n",
              "          element.innerHTML = '';\n",
              "          dataTable['output_type'] = 'display_data';\n",
              "          await google.colab.output.renderOutput(dataTable, element);\n",
              "          const docLink = document.createElement('div');\n",
              "          docLink.innerHTML = docLinkHtml;\n",
              "          element.appendChild(docLink);\n",
              "        }\n",
              "      </script>\n",
              "    </div>\n",
              "  </div>\n",
              "  "
            ]
          },
          "metadata": {},
          "execution_count": 43
        }
      ],
      "source": [
        "score.head(1)"
      ]
    },
    {
      "cell_type": "code",
      "execution_count": null,
      "metadata": {
        "id": "mxEXcb3Go1u2"
      },
      "outputs": [],
      "source": [
        "#considero no la voy a necesitar\n",
        "score = score.drop(columns=['timestamp'])"
      ]
    },
    {
      "cell_type": "code",
      "execution_count": null,
      "metadata": {
        "colab": {
          "base_uri": "https://localhost:8080/",
          "height": 112
        },
        "id": "y3uw-WUmo1u3",
        "outputId": "8628f445-c41b-4cf9-ce2d-8d3bbec1d6aa"
      },
      "outputs": [
        {
          "output_type": "execute_result",
          "data": {
            "text/plain": [
              "   userId  rating movieId       fecha\n",
              "0       1     1.0   as680  1970-01-01\n",
              "1       1     4.5  ns2186  1970-01-01"
            ],
            "text/html": [
              "\n",
              "  <div id=\"df-00dc309f-eb0f-4310-a789-f1cd8fcf492a\">\n",
              "    <div class=\"colab-df-container\">\n",
              "      <div>\n",
              "<style scoped>\n",
              "    .dataframe tbody tr th:only-of-type {\n",
              "        vertical-align: middle;\n",
              "    }\n",
              "\n",
              "    .dataframe tbody tr th {\n",
              "        vertical-align: top;\n",
              "    }\n",
              "\n",
              "    .dataframe thead th {\n",
              "        text-align: right;\n",
              "    }\n",
              "</style>\n",
              "<table border=\"1\" class=\"dataframe\">\n",
              "  <thead>\n",
              "    <tr style=\"text-align: right;\">\n",
              "      <th></th>\n",
              "      <th>userId</th>\n",
              "      <th>rating</th>\n",
              "      <th>movieId</th>\n",
              "      <th>fecha</th>\n",
              "    </tr>\n",
              "  </thead>\n",
              "  <tbody>\n",
              "    <tr>\n",
              "      <th>0</th>\n",
              "      <td>1</td>\n",
              "      <td>1.0</td>\n",
              "      <td>as680</td>\n",
              "      <td>1970-01-01</td>\n",
              "    </tr>\n",
              "    <tr>\n",
              "      <th>1</th>\n",
              "      <td>1</td>\n",
              "      <td>4.5</td>\n",
              "      <td>ns2186</td>\n",
              "      <td>1970-01-01</td>\n",
              "    </tr>\n",
              "  </tbody>\n",
              "</table>\n",
              "</div>\n",
              "      <button class=\"colab-df-convert\" onclick=\"convertToInteractive('df-00dc309f-eb0f-4310-a789-f1cd8fcf492a')\"\n",
              "              title=\"Convert this dataframe to an interactive table.\"\n",
              "              style=\"display:none;\">\n",
              "        \n",
              "  <svg xmlns=\"http://www.w3.org/2000/svg\" height=\"24px\"viewBox=\"0 0 24 24\"\n",
              "       width=\"24px\">\n",
              "    <path d=\"M0 0h24v24H0V0z\" fill=\"none\"/>\n",
              "    <path d=\"M18.56 5.44l.94 2.06.94-2.06 2.06-.94-2.06-.94-.94-2.06-.94 2.06-2.06.94zm-11 1L8.5 8.5l.94-2.06 2.06-.94-2.06-.94L8.5 2.5l-.94 2.06-2.06.94zm10 10l.94 2.06.94-2.06 2.06-.94-2.06-.94-.94-2.06-.94 2.06-2.06.94z\"/><path d=\"M17.41 7.96l-1.37-1.37c-.4-.4-.92-.59-1.43-.59-.52 0-1.04.2-1.43.59L10.3 9.45l-7.72 7.72c-.78.78-.78 2.05 0 2.83L4 21.41c.39.39.9.59 1.41.59.51 0 1.02-.2 1.41-.59l7.78-7.78 2.81-2.81c.8-.78.8-2.07 0-2.86zM5.41 20L4 18.59l7.72-7.72 1.47 1.35L5.41 20z\"/>\n",
              "  </svg>\n",
              "      </button>\n",
              "      \n",
              "  <style>\n",
              "    .colab-df-container {\n",
              "      display:flex;\n",
              "      flex-wrap:wrap;\n",
              "      gap: 12px;\n",
              "    }\n",
              "\n",
              "    .colab-df-convert {\n",
              "      background-color: #E8F0FE;\n",
              "      border: none;\n",
              "      border-radius: 50%;\n",
              "      cursor: pointer;\n",
              "      display: none;\n",
              "      fill: #1967D2;\n",
              "      height: 32px;\n",
              "      padding: 0 0 0 0;\n",
              "      width: 32px;\n",
              "    }\n",
              "\n",
              "    .colab-df-convert:hover {\n",
              "      background-color: #E2EBFA;\n",
              "      box-shadow: 0px 1px 2px rgba(60, 64, 67, 0.3), 0px 1px 3px 1px rgba(60, 64, 67, 0.15);\n",
              "      fill: #174EA6;\n",
              "    }\n",
              "\n",
              "    [theme=dark] .colab-df-convert {\n",
              "      background-color: #3B4455;\n",
              "      fill: #D2E3FC;\n",
              "    }\n",
              "\n",
              "    [theme=dark] .colab-df-convert:hover {\n",
              "      background-color: #434B5C;\n",
              "      box-shadow: 0px 1px 3px 1px rgba(0, 0, 0, 0.15);\n",
              "      filter: drop-shadow(0px 1px 2px rgba(0, 0, 0, 0.3));\n",
              "      fill: #FFFFFF;\n",
              "    }\n",
              "  </style>\n",
              "\n",
              "      <script>\n",
              "        const buttonEl =\n",
              "          document.querySelector('#df-00dc309f-eb0f-4310-a789-f1cd8fcf492a button.colab-df-convert');\n",
              "        buttonEl.style.display =\n",
              "          google.colab.kernel.accessAllowed ? 'block' : 'none';\n",
              "\n",
              "        async function convertToInteractive(key) {\n",
              "          const element = document.querySelector('#df-00dc309f-eb0f-4310-a789-f1cd8fcf492a');\n",
              "          const dataTable =\n",
              "            await google.colab.kernel.invokeFunction('convertToInteractive',\n",
              "                                                     [key], {});\n",
              "          if (!dataTable) return;\n",
              "\n",
              "          const docLinkHtml = 'Like what you see? Visit the ' +\n",
              "            '<a target=\"_blank\" href=https://colab.research.google.com/notebooks/data_table.ipynb>data table notebook</a>'\n",
              "            + ' to learn more about interactive tables.';\n",
              "          element.innerHTML = '';\n",
              "          dataTable['output_type'] = 'display_data';\n",
              "          await google.colab.output.renderOutput(dataTable, element);\n",
              "          const docLink = document.createElement('div');\n",
              "          docLink.innerHTML = docLinkHtml;\n",
              "          element.appendChild(docLink);\n",
              "        }\n",
              "      </script>\n",
              "    </div>\n",
              "  </div>\n",
              "  "
            ]
          },
          "metadata": {},
          "execution_count": 45
        }
      ],
      "source": [
        "score.head(2)"
      ]
    },
    {
      "cell_type": "markdown",
      "metadata": {
        "id": "Ak3NQXtpo1u4"
      },
      "source": [
        "saco promedio por id para que queden la misma cantidad de filas que en streming"
      ]
    },
    {
      "cell_type": "code",
      "execution_count": null,
      "metadata": {
        "colab": {
          "base_uri": "https://localhost:8080/"
        },
        "id": "grbJCdMYo1u5",
        "outputId": "524b95d9-2677-4f8f-a078-5611a184512d"
      },
      "outputs": [
        {
          "output_type": "stream",
          "name": "stderr",
          "text": [
            "<ipython-input-46-f1187b3f2f1c>:2: FutureWarning: The default value of numeric_only in DataFrameGroupBy.mean is deprecated. In a future version, numeric_only will default to False. Either specify numeric_only or select only columns which should be valid for the function.\n",
            "  promedio = score.groupby('movieId').mean()\n"
          ]
        }
      ],
      "source": [
        "#agrupamos y sacamos el promedio de los scores por id\n",
        "promedio = score.groupby('movieId').mean()"
      ]
    },
    {
      "cell_type": "code",
      "execution_count": null,
      "metadata": {
        "colab": {
          "base_uri": "https://localhost:8080/",
          "height": 455
        },
        "id": "5Pp6MWdLo1u6",
        "outputId": "fb7a0f31-aab5-44b0-c90f-5dc61d37de9f"
      },
      "outputs": [
        {
          "output_type": "execute_result",
          "data": {
            "text/plain": [
              "               userId    rating\n",
              "movieId                        \n",
              "as1      99178.623506  3.467131\n",
              "as10     92915.883041  3.439571\n",
              "as100    83483.262791  3.609302\n",
              "as1000   90606.197938  3.556701\n",
              "as1001   92349.085288  3.585288\n",
              "...               ...       ...\n",
              "ns995    86366.176339  3.515625\n",
              "ns996    94741.060729  3.626518\n",
              "ns997    86417.856842  3.530526\n",
              "ns998    94409.502066  3.582645\n",
              "ns999    90685.066806  3.494781\n",
              "\n",
              "[22998 rows x 2 columns]"
            ],
            "text/html": [
              "\n",
              "  <div id=\"df-3ee261b1-de28-4eab-b57a-69caebc33776\">\n",
              "    <div class=\"colab-df-container\">\n",
              "      <div>\n",
              "<style scoped>\n",
              "    .dataframe tbody tr th:only-of-type {\n",
              "        vertical-align: middle;\n",
              "    }\n",
              "\n",
              "    .dataframe tbody tr th {\n",
              "        vertical-align: top;\n",
              "    }\n",
              "\n",
              "    .dataframe thead th {\n",
              "        text-align: right;\n",
              "    }\n",
              "</style>\n",
              "<table border=\"1\" class=\"dataframe\">\n",
              "  <thead>\n",
              "    <tr style=\"text-align: right;\">\n",
              "      <th></th>\n",
              "      <th>userId</th>\n",
              "      <th>rating</th>\n",
              "    </tr>\n",
              "    <tr>\n",
              "      <th>movieId</th>\n",
              "      <th></th>\n",
              "      <th></th>\n",
              "    </tr>\n",
              "  </thead>\n",
              "  <tbody>\n",
              "    <tr>\n",
              "      <th>as1</th>\n",
              "      <td>99178.623506</td>\n",
              "      <td>3.467131</td>\n",
              "    </tr>\n",
              "    <tr>\n",
              "      <th>as10</th>\n",
              "      <td>92915.883041</td>\n",
              "      <td>3.439571</td>\n",
              "    </tr>\n",
              "    <tr>\n",
              "      <th>as100</th>\n",
              "      <td>83483.262791</td>\n",
              "      <td>3.609302</td>\n",
              "    </tr>\n",
              "    <tr>\n",
              "      <th>as1000</th>\n",
              "      <td>90606.197938</td>\n",
              "      <td>3.556701</td>\n",
              "    </tr>\n",
              "    <tr>\n",
              "      <th>as1001</th>\n",
              "      <td>92349.085288</td>\n",
              "      <td>3.585288</td>\n",
              "    </tr>\n",
              "    <tr>\n",
              "      <th>...</th>\n",
              "      <td>...</td>\n",
              "      <td>...</td>\n",
              "    </tr>\n",
              "    <tr>\n",
              "      <th>ns995</th>\n",
              "      <td>86366.176339</td>\n",
              "      <td>3.515625</td>\n",
              "    </tr>\n",
              "    <tr>\n",
              "      <th>ns996</th>\n",
              "      <td>94741.060729</td>\n",
              "      <td>3.626518</td>\n",
              "    </tr>\n",
              "    <tr>\n",
              "      <th>ns997</th>\n",
              "      <td>86417.856842</td>\n",
              "      <td>3.530526</td>\n",
              "    </tr>\n",
              "    <tr>\n",
              "      <th>ns998</th>\n",
              "      <td>94409.502066</td>\n",
              "      <td>3.582645</td>\n",
              "    </tr>\n",
              "    <tr>\n",
              "      <th>ns999</th>\n",
              "      <td>90685.066806</td>\n",
              "      <td>3.494781</td>\n",
              "    </tr>\n",
              "  </tbody>\n",
              "</table>\n",
              "<p>22998 rows × 2 columns</p>\n",
              "</div>\n",
              "      <button class=\"colab-df-convert\" onclick=\"convertToInteractive('df-3ee261b1-de28-4eab-b57a-69caebc33776')\"\n",
              "              title=\"Convert this dataframe to an interactive table.\"\n",
              "              style=\"display:none;\">\n",
              "        \n",
              "  <svg xmlns=\"http://www.w3.org/2000/svg\" height=\"24px\"viewBox=\"0 0 24 24\"\n",
              "       width=\"24px\">\n",
              "    <path d=\"M0 0h24v24H0V0z\" fill=\"none\"/>\n",
              "    <path d=\"M18.56 5.44l.94 2.06.94-2.06 2.06-.94-2.06-.94-.94-2.06-.94 2.06-2.06.94zm-11 1L8.5 8.5l.94-2.06 2.06-.94-2.06-.94L8.5 2.5l-.94 2.06-2.06.94zm10 10l.94 2.06.94-2.06 2.06-.94-2.06-.94-.94-2.06-.94 2.06-2.06.94z\"/><path d=\"M17.41 7.96l-1.37-1.37c-.4-.4-.92-.59-1.43-.59-.52 0-1.04.2-1.43.59L10.3 9.45l-7.72 7.72c-.78.78-.78 2.05 0 2.83L4 21.41c.39.39.9.59 1.41.59.51 0 1.02-.2 1.41-.59l7.78-7.78 2.81-2.81c.8-.78.8-2.07 0-2.86zM5.41 20L4 18.59l7.72-7.72 1.47 1.35L5.41 20z\"/>\n",
              "  </svg>\n",
              "      </button>\n",
              "      \n",
              "  <style>\n",
              "    .colab-df-container {\n",
              "      display:flex;\n",
              "      flex-wrap:wrap;\n",
              "      gap: 12px;\n",
              "    }\n",
              "\n",
              "    .colab-df-convert {\n",
              "      background-color: #E8F0FE;\n",
              "      border: none;\n",
              "      border-radius: 50%;\n",
              "      cursor: pointer;\n",
              "      display: none;\n",
              "      fill: #1967D2;\n",
              "      height: 32px;\n",
              "      padding: 0 0 0 0;\n",
              "      width: 32px;\n",
              "    }\n",
              "\n",
              "    .colab-df-convert:hover {\n",
              "      background-color: #E2EBFA;\n",
              "      box-shadow: 0px 1px 2px rgba(60, 64, 67, 0.3), 0px 1px 3px 1px rgba(60, 64, 67, 0.15);\n",
              "      fill: #174EA6;\n",
              "    }\n",
              "\n",
              "    [theme=dark] .colab-df-convert {\n",
              "      background-color: #3B4455;\n",
              "      fill: #D2E3FC;\n",
              "    }\n",
              "\n",
              "    [theme=dark] .colab-df-convert:hover {\n",
              "      background-color: #434B5C;\n",
              "      box-shadow: 0px 1px 3px 1px rgba(0, 0, 0, 0.15);\n",
              "      filter: drop-shadow(0px 1px 2px rgba(0, 0, 0, 0.3));\n",
              "      fill: #FFFFFF;\n",
              "    }\n",
              "  </style>\n",
              "\n",
              "      <script>\n",
              "        const buttonEl =\n",
              "          document.querySelector('#df-3ee261b1-de28-4eab-b57a-69caebc33776 button.colab-df-convert');\n",
              "        buttonEl.style.display =\n",
              "          google.colab.kernel.accessAllowed ? 'block' : 'none';\n",
              "\n",
              "        async function convertToInteractive(key) {\n",
              "          const element = document.querySelector('#df-3ee261b1-de28-4eab-b57a-69caebc33776');\n",
              "          const dataTable =\n",
              "            await google.colab.kernel.invokeFunction('convertToInteractive',\n",
              "                                                     [key], {});\n",
              "          if (!dataTable) return;\n",
              "\n",
              "          const docLinkHtml = 'Like what you see? Visit the ' +\n",
              "            '<a target=\"_blank\" href=https://colab.research.google.com/notebooks/data_table.ipynb>data table notebook</a>'\n",
              "            + ' to learn more about interactive tables.';\n",
              "          element.innerHTML = '';\n",
              "          dataTable['output_type'] = 'display_data';\n",
              "          await google.colab.output.renderOutput(dataTable, element);\n",
              "          const docLink = document.createElement('div');\n",
              "          docLink.innerHTML = docLinkHtml;\n",
              "          element.appendChild(docLink);\n",
              "        }\n",
              "      </script>\n",
              "    </div>\n",
              "  </div>\n",
              "  "
            ]
          },
          "metadata": {},
          "execution_count": 47
        }
      ],
      "source": [
        "promedio"
      ]
    },
    {
      "cell_type": "code",
      "execution_count": null,
      "metadata": {
        "id": "FQ3Ot7-So1u8"
      },
      "outputs": [],
      "source": [
        "#unimos mvies y promedio por el id\n",
        "df1 = pd.merge(streaming, promedio, left_on='NuevoId', right_on='movieId', how='left')"
      ]
    },
    {
      "cell_type": "code",
      "execution_count": null,
      "metadata": {
        "colab": {
          "base_uri": "https://localhost:8080/",
          "height": 349
        },
        "id": "n1H5GQF5o1u9",
        "outputId": "aa240023-dfd2-4988-c28f-40dc8537bfbc"
      },
      "outputs": [
        {
          "output_type": "execute_result",
          "data": {
            "text/plain": [
              "  show_id   type                 title      director  \\\n",
              "0      s1  movie   the grand seduction  don mckellar   \n",
              "1      s2  movie  take care good night  girish joshi   \n",
              "\n",
              "                                               cast country date_added  \\\n",
              "0    brendan gleeson, taylor kitsch, gordon pinsent  canada 2021-03-30   \n",
              "1  mahesh manjrekar, abhay mahajan, sachin khedekar   india 2021-03-30   \n",
              "\n",
              "   release_year rating_x duration             listed_in  \\\n",
              "0          2014        g  113 min         comedy, drama   \n",
              "1          2018      13+  110 min  drama, international   \n",
              "\n",
              "                                         description  duration_int  \\\n",
              "0  a small fishing village must procure a local d...           113   \n",
              "1  a metro family decides to fight a cyber crimin...           110   \n",
              "\n",
              "  duration_type plataforma NuevoId        userId  rating_y  \n",
              "0           min     amazon     as1  99178.623506  3.467131  \n",
              "1           min     amazon     as2  93837.476673  3.548682  "
            ],
            "text/html": [
              "\n",
              "  <div id=\"df-867659b4-b105-495f-8e71-315ae6e863f8\">\n",
              "    <div class=\"colab-df-container\">\n",
              "      <div>\n",
              "<style scoped>\n",
              "    .dataframe tbody tr th:only-of-type {\n",
              "        vertical-align: middle;\n",
              "    }\n",
              "\n",
              "    .dataframe tbody tr th {\n",
              "        vertical-align: top;\n",
              "    }\n",
              "\n",
              "    .dataframe thead th {\n",
              "        text-align: right;\n",
              "    }\n",
              "</style>\n",
              "<table border=\"1\" class=\"dataframe\">\n",
              "  <thead>\n",
              "    <tr style=\"text-align: right;\">\n",
              "      <th></th>\n",
              "      <th>show_id</th>\n",
              "      <th>type</th>\n",
              "      <th>title</th>\n",
              "      <th>director</th>\n",
              "      <th>cast</th>\n",
              "      <th>country</th>\n",
              "      <th>date_added</th>\n",
              "      <th>release_year</th>\n",
              "      <th>rating_x</th>\n",
              "      <th>duration</th>\n",
              "      <th>listed_in</th>\n",
              "      <th>description</th>\n",
              "      <th>duration_int</th>\n",
              "      <th>duration_type</th>\n",
              "      <th>plataforma</th>\n",
              "      <th>NuevoId</th>\n",
              "      <th>userId</th>\n",
              "      <th>rating_y</th>\n",
              "    </tr>\n",
              "  </thead>\n",
              "  <tbody>\n",
              "    <tr>\n",
              "      <th>0</th>\n",
              "      <td>s1</td>\n",
              "      <td>movie</td>\n",
              "      <td>the grand seduction</td>\n",
              "      <td>don mckellar</td>\n",
              "      <td>brendan gleeson, taylor kitsch, gordon pinsent</td>\n",
              "      <td>canada</td>\n",
              "      <td>2021-03-30</td>\n",
              "      <td>2014</td>\n",
              "      <td>g</td>\n",
              "      <td>113 min</td>\n",
              "      <td>comedy, drama</td>\n",
              "      <td>a small fishing village must procure a local d...</td>\n",
              "      <td>113</td>\n",
              "      <td>min</td>\n",
              "      <td>amazon</td>\n",
              "      <td>as1</td>\n",
              "      <td>99178.623506</td>\n",
              "      <td>3.467131</td>\n",
              "    </tr>\n",
              "    <tr>\n",
              "      <th>1</th>\n",
              "      <td>s2</td>\n",
              "      <td>movie</td>\n",
              "      <td>take care good night</td>\n",
              "      <td>girish joshi</td>\n",
              "      <td>mahesh manjrekar, abhay mahajan, sachin khedekar</td>\n",
              "      <td>india</td>\n",
              "      <td>2021-03-30</td>\n",
              "      <td>2018</td>\n",
              "      <td>13+</td>\n",
              "      <td>110 min</td>\n",
              "      <td>drama, international</td>\n",
              "      <td>a metro family decides to fight a cyber crimin...</td>\n",
              "      <td>110</td>\n",
              "      <td>min</td>\n",
              "      <td>amazon</td>\n",
              "      <td>as2</td>\n",
              "      <td>93837.476673</td>\n",
              "      <td>3.548682</td>\n",
              "    </tr>\n",
              "  </tbody>\n",
              "</table>\n",
              "</div>\n",
              "      <button class=\"colab-df-convert\" onclick=\"convertToInteractive('df-867659b4-b105-495f-8e71-315ae6e863f8')\"\n",
              "              title=\"Convert this dataframe to an interactive table.\"\n",
              "              style=\"display:none;\">\n",
              "        \n",
              "  <svg xmlns=\"http://www.w3.org/2000/svg\" height=\"24px\"viewBox=\"0 0 24 24\"\n",
              "       width=\"24px\">\n",
              "    <path d=\"M0 0h24v24H0V0z\" fill=\"none\"/>\n",
              "    <path d=\"M18.56 5.44l.94 2.06.94-2.06 2.06-.94-2.06-.94-.94-2.06-.94 2.06-2.06.94zm-11 1L8.5 8.5l.94-2.06 2.06-.94-2.06-.94L8.5 2.5l-.94 2.06-2.06.94zm10 10l.94 2.06.94-2.06 2.06-.94-2.06-.94-.94-2.06-.94 2.06-2.06.94z\"/><path d=\"M17.41 7.96l-1.37-1.37c-.4-.4-.92-.59-1.43-.59-.52 0-1.04.2-1.43.59L10.3 9.45l-7.72 7.72c-.78.78-.78 2.05 0 2.83L4 21.41c.39.39.9.59 1.41.59.51 0 1.02-.2 1.41-.59l7.78-7.78 2.81-2.81c.8-.78.8-2.07 0-2.86zM5.41 20L4 18.59l7.72-7.72 1.47 1.35L5.41 20z\"/>\n",
              "  </svg>\n",
              "      </button>\n",
              "      \n",
              "  <style>\n",
              "    .colab-df-container {\n",
              "      display:flex;\n",
              "      flex-wrap:wrap;\n",
              "      gap: 12px;\n",
              "    }\n",
              "\n",
              "    .colab-df-convert {\n",
              "      background-color: #E8F0FE;\n",
              "      border: none;\n",
              "      border-radius: 50%;\n",
              "      cursor: pointer;\n",
              "      display: none;\n",
              "      fill: #1967D2;\n",
              "      height: 32px;\n",
              "      padding: 0 0 0 0;\n",
              "      width: 32px;\n",
              "    }\n",
              "\n",
              "    .colab-df-convert:hover {\n",
              "      background-color: #E2EBFA;\n",
              "      box-shadow: 0px 1px 2px rgba(60, 64, 67, 0.3), 0px 1px 3px 1px rgba(60, 64, 67, 0.15);\n",
              "      fill: #174EA6;\n",
              "    }\n",
              "\n",
              "    [theme=dark] .colab-df-convert {\n",
              "      background-color: #3B4455;\n",
              "      fill: #D2E3FC;\n",
              "    }\n",
              "\n",
              "    [theme=dark] .colab-df-convert:hover {\n",
              "      background-color: #434B5C;\n",
              "      box-shadow: 0px 1px 3px 1px rgba(0, 0, 0, 0.15);\n",
              "      filter: drop-shadow(0px 1px 2px rgba(0, 0, 0, 0.3));\n",
              "      fill: #FFFFFF;\n",
              "    }\n",
              "  </style>\n",
              "\n",
              "      <script>\n",
              "        const buttonEl =\n",
              "          document.querySelector('#df-867659b4-b105-495f-8e71-315ae6e863f8 button.colab-df-convert');\n",
              "        buttonEl.style.display =\n",
              "          google.colab.kernel.accessAllowed ? 'block' : 'none';\n",
              "\n",
              "        async function convertToInteractive(key) {\n",
              "          const element = document.querySelector('#df-867659b4-b105-495f-8e71-315ae6e863f8');\n",
              "          const dataTable =\n",
              "            await google.colab.kernel.invokeFunction('convertToInteractive',\n",
              "                                                     [key], {});\n",
              "          if (!dataTable) return;\n",
              "\n",
              "          const docLinkHtml = 'Like what you see? Visit the ' +\n",
              "            '<a target=\"_blank\" href=https://colab.research.google.com/notebooks/data_table.ipynb>data table notebook</a>'\n",
              "            + ' to learn more about interactive tables.';\n",
              "          element.innerHTML = '';\n",
              "          dataTable['output_type'] = 'display_data';\n",
              "          await google.colab.output.renderOutput(dataTable, element);\n",
              "          const docLink = document.createElement('div');\n",
              "          docLink.innerHTML = docLinkHtml;\n",
              "          element.appendChild(docLink);\n",
              "        }\n",
              "      </script>\n",
              "    </div>\n",
              "  </div>\n",
              "  "
            ]
          },
          "metadata": {},
          "execution_count": 49
        }
      ],
      "source": [
        "df1.head(2)"
      ]
    },
    {
      "cell_type": "code",
      "execution_count": null,
      "metadata": {
        "id": "FBPk6zCGo1vA"
      },
      "outputs": [],
      "source": [
        "#borre esta columna porque considero no es iportante para el analisis\n",
        "df1 = df1.drop(columns=['userId'])"
      ]
    },
    {
      "cell_type": "code",
      "execution_count": null,
      "metadata": {
        "id": "AMJVQ3iJo1vB"
      },
      "outputs": [],
      "source": [
        "#aca renombro las columnas porque quiero esten en castellano\n",
        "df1 = df1.rename(columns={'rating_x':'clasificacion','NuevoId':'nuevoid','rating_y':'puntuacion','type':'tipo','title':'titulo','cast':'elenco','country':'pais','date_added':'fecha_agregada','release_year':'año_realiacion','duration':'duracion','listed_in':'genero','description':'descripcion'})"
      ]
    },
    {
      "cell_type": "code",
      "execution_count": null,
      "metadata": {
        "id": "z3ll7pFuo1vD"
      },
      "outputs": [],
      "source": [
        "df1.head(2)"
      ]
    },
    {
      "cell_type": "code",
      "execution_count": null,
      "metadata": {
        "id": "xar-NSYCo1vE"
      },
      "outputs": [],
      "source": [
        "df1.to_csv('df1.csv', sep=',', encoding='utf-8', index=False)"
      ]
    },
    {
      "cell_type": "code",
      "execution_count": null,
      "metadata": {
        "id": "9Iwk5sSyo1vG"
      },
      "outputs": [],
      "source": [
        "#aqui converti streaming en archivo csv para poder trabajarlo en la api\n",
        "streaming.to_csv('datos.csv', sep=',', encoding='utf-8', index=False)"
      ]
    },
    {
      "cell_type": "markdown",
      "metadata": {
        "id": "F_CZSYJXo1vH"
      },
      "source": [
        "Desarrolo de la FASTAPI\n",
        "  \n",
        "  *Película (sólo película, no serie, etc) con mayor duración según año, plataforma y tipo de duración. La función debe llamarse get_max_duration(year, platform, duration_type) y debe devolver sólo el string del nombre de la película.\n",
        "\n"
      ]
    },
    {
      "cell_type": "code",
      "execution_count": null,
      "metadata": {
        "colab": {
          "base_uri": "https://localhost:8080/"
        },
        "id": "ZHnSvR3fo1vI",
        "outputId": "59bc8c42-81f5-4006-bf64-b343b9a85c50"
      },
      "outputs": [
        {
          "output_type": "execute_result",
          "data": {
            "text/plain": [
              "Index(['show_id', 'type', 'title', 'director', 'cast', 'country', 'date_added',\n",
              "       'release_year', 'rating', 'duration', 'listed_in', 'description',\n",
              "       'duration_int', 'duration_type', 'plataforma', 'NuevoId'],\n",
              "      dtype='object')"
            ]
          },
          "metadata": {},
          "execution_count": 54
        }
      ],
      "source": [
        "streaming.columns"
      ]
    },
    {
      "cell_type": "code",
      "execution_count": null,
      "metadata": {
        "colab": {
          "base_uri": "https://localhost:8080/"
        },
        "id": "lAe-dYa6o1vJ",
        "outputId": "518c3ad6-849b-4f07-8a22-af4bb7ccd47d"
      },
      "outputs": [
        {
          "output_type": "execute_result",
          "data": {
            "text/plain": [
              "array(['min', 'season', 'seasons', 'nan'], dtype=object)"
            ]
          },
          "metadata": {},
          "execution_count": 55
        }
      ],
      "source": [
        "streaming['duration_type'].unique()"
      ]
    },
    {
      "cell_type": "code",
      "execution_count": null,
      "metadata": {
        "id": "618_qiGwo1vK"
      },
      "outputs": [],
      "source": [
        "filtro_striming = streaming.copy()"
      ]
    },
    {
      "cell_type": "code",
      "execution_count": null,
      "metadata": {
        "id": "7pcr9b6po1vL",
        "outputId": "9958aa15-f215-46c2-c457-fa2eb3230277"
      },
      "outputs": [
        {
          "data": {
            "text/plain": [
              "array(['min', 'season', 'seasons', 'nan'], dtype=object)"
            ]
          },
          "execution_count": 52,
          "metadata": {},
          "output_type": "execute_result"
        }
      ],
      "source": [
        "streaming['duration_type'].unique()"
      ]
    },
    {
      "cell_type": "code",
      "execution_count": null,
      "metadata": {
        "id": "fmuB3mVyo1vM"
      },
      "outputs": [],
      "source": [
        "#codigo gpt\n",
        "def get_max_duration(year, platform, duration_type):\n",
        "    # Filtramos las películas del año, plataforma y tipo de duración específicos\n",
        "    filtered_df = streaming[(streaming['type'] == 'movie') & (streaming['release_year'] == year) & \n",
        "                            (streaming['plataforma'] == platform) & (streaming['duration_type'] == duration_type)]\n",
        "    \n",
        "    # Ordenamos por duración de mayor a menor y seleccionamos el primer título (el de mayor duración)\n",
        "    max_duration_movie = filtered_df.sort_values(by='duration_int', ascending=False).iloc[0]['title']\n",
        "    return max_duration_movie\n"
      ]
    },
    {
      "cell_type": "code",
      "execution_count": null,
      "metadata": {
        "colab": {
          "base_uri": "https://localhost:8080/",
          "height": 35
        },
        "id": "ZpSIhITmo1vN",
        "outputId": "2ae82c0f-4034-49cb-a60c-9c98b59d4723"
      },
      "outputs": [
        {
          "output_type": "execute_result",
          "data": {
            "text/plain": [
              "'night sky with nature sounds with 432hz nature sound track for sleep'"
            ],
            "application/vnd.google.colaboratory.intrinsic+json": {
              "type": "string"
            }
          },
          "metadata": {},
          "execution_count": 57
        }
      ],
      "source": [
        "get_max_duration(2020,'amazon','min')\n",
        "\n"
      ]
    },
    {
      "cell_type": "markdown",
      "metadata": {
        "id": "ZmAvnYoNo1vO"
      },
      "source": [
        "Cantidad de películas (sólo películas, no series, etc) según plataforma, con un puntaje mayor a XX en determinado año. La función debe llamarse get_score_count(platform, scored, year) y debe devolver un int, con el total de películas que cumplen lo solicitado."
      ]
    },
    {
      "cell_type": "code",
      "execution_count": null,
      "metadata": {
        "id": "1lS3nZteo1vP"
      },
      "outputs": [],
      "source": [
        "streaming[\"rating\"]"
      ]
    },
    {
      "cell_type": "code",
      "source": [
        "df1.columns"
      ],
      "metadata": {
        "colab": {
          "base_uri": "https://localhost:8080/"
        },
        "id": "rf51okr8z_Y6",
        "outputId": "537a2654-d940-448a-8a41-a95d3834fcc8"
      },
      "execution_count": null,
      "outputs": [
        {
          "output_type": "execute_result",
          "data": {
            "text/plain": [
              "Index(['show_id', 'tipo', 'titulo', 'director', 'elenco', 'pais',\n",
              "       'fecha_agregada', 'año_realiacion', 'clasificacion', 'duracion',\n",
              "       'genero', 'descripcion', 'duration_int', 'duration_type', 'plataforma',\n",
              "       'nuevoid', 'puntuacion'],\n",
              "      dtype='object')"
            ]
          },
          "metadata": {},
          "execution_count": 72
        }
      ]
    },
    {
      "cell_type": "code",
      "source": [
        "df1.head()"
      ],
      "metadata": {
        "id": "QTVd8nO909QJ"
      },
      "execution_count": null,
      "outputs": []
    },
    {
      "cell_type": "code",
      "source": [
        "df1['tipo'].unique()"
      ],
      "metadata": {
        "colab": {
          "base_uri": "https://localhost:8080/"
        },
        "id": "EDZA0EOi41Ip",
        "outputId": "33520ad5-373a-43a8-a8e7-75f1fcbe2eaa"
      },
      "execution_count": null,
      "outputs": [
        {
          "output_type": "execute_result",
          "data": {
            "text/plain": [
              "array(['movie', 'tv show'], dtype=object)"
            ]
          },
          "metadata": {},
          "execution_count": 83
        }
      ]
    },
    {
      "cell_type": "code",
      "execution_count": null,
      "metadata": {
        "id": "ZGA9htsxo1vQ"
      },
      "outputs": [],
      "source": [
        "def get_score_count(platform, scored, year):\n",
        "    # filtrar las películas según plataforma, puntaje y año\n",
        "    pelis_por_puntaje = df1[(df1[\"plataforma\"] == platform) & (df1[\"puntuacion\"] >= scored) & (df1[\"tipo\"] == \"movie\") & (df1[\"año_realiacion\"] == year)]\n",
        "    \n",
        "    # contar la cantidad de películas\n",
        "    count = len(pelis_por_puntaje)\n",
        "    \n",
        "    return count\n"
      ]
    },
    {
      "cell_type": "code",
      "execution_count": null,
      "metadata": {
        "colab": {
          "base_uri": "https://localhost:8080/"
        },
        "id": "tTDcypvto1vR",
        "outputId": "66b59b7f-b9f5-482e-f867-e5224b7decaf"
      },
      "outputs": [
        {
          "output_type": "stream",
          "name": "stdout",
          "text": [
            "736\n"
          ]
        }
      ],
      "source": [
        "count = get_score_count(\"amazon\", 3.0, 2020)\n",
        "print(count)\n"
      ]
    },
    {
      "cell_type": "markdown",
      "source": [
        "3)Cantidad de películas (sólo películas, no series, etc) según plataforma. La función debe llamarse get_count_platform(platform) y debe devolver un int, con el número total de películas de esa plataforma. Las plataformas deben llamarse amazon, netflix, hulu, disney."
      ],
      "metadata": {
        "id": "qI4bQ8XT5f8o"
      }
    },
    {
      "cell_type": "code",
      "source": [
        "def get_count_platform(platform):\n",
        "    # Filtrar solo películas\n",
        "    df_movies = df1.loc[df1['tipo'] == 'movie']\n",
        "\n",
        "    # Filtrar por plataforma\n",
        "    df_filtered = df_movies.query(\"plataforma == @platform\")\n",
        "\n",
        "    # Contar el número de películas resultantes\n",
        "    count = len(df_filtered)\n",
        "\n",
        "    return count\n"
      ],
      "metadata": {
        "id": "2iYf7eXZ6qH5"
      },
      "execution_count": null,
      "outputs": []
    },
    {
      "cell_type": "code",
      "source": [
        "count = get_count_platform('netflix')\n",
        "count\n"
      ],
      "metadata": {
        "colab": {
          "base_uri": "https://localhost:8080/"
        },
        "id": "Sh0n_-AM6wm0",
        "outputId": "f8e07f08-0c1d-4802-f2a8-c69b2efcf6cf"
      },
      "execution_count": null,
      "outputs": [
        {
          "output_type": "execute_result",
          "data": {
            "text/plain": [
              "6131"
            ]
          },
          "metadata": {},
          "execution_count": 97
        }
      ]
    },
    {
      "cell_type": "code",
      "source": [
        "#de Pochito, NO me funciona\n",
        "def get_count_platform(platform):\n",
        "    # Controlamos que la plataforma ingresada sea correcta\n",
        "    #platform = platform.lower()\n",
        "\n",
        "    platforms = [\"amazon\", \"disney\", \"hulu\", \"netflix\"]\n",
        "    if platform not in platforms:\n",
        "        return (\"Plataforma incorrecta! Debe ingresar una de las siguientes: amazon, disney, hulu, netflix\")\n",
        "    \n",
        "    # Filtrar las películas para la plataforma especificada\n",
        "    df_filtered_movies = df1[(df1.platform == platform)] # & (df.type == 'movie')] Segun sli.do no hay que filtrar por movies\n",
        "\n",
        "    # Agrupar por plataforma y contar el número de filas resultantes\n",
        "    count = df_filtered_movies.groupby('platform').size()\n",
        "    \n",
        "    # Verificar que hay al menos una película que cumpla con los filtros\n",
        "    if df_filtered_movies.empty:\n",
        "        return(\"No hay peliculas para esa plataforma\")\n",
        "    return count.to_dict()\n"
      ],
      "metadata": {
        "id": "xcZjTubW5ujI"
      },
      "execution_count": null,
      "outputs": []
    },
    {
      "cell_type": "code",
      "source": [
        "f = get_count_platform(amazon)\n",
        "f"
      ],
      "metadata": {
        "id": "yqD-8RIv580X"
      },
      "execution_count": null,
      "outputs": []
    },
    {
      "cell_type": "markdown",
      "source": [
        "4)Actor que más se repite según plataforma y año. La función debe llamarse get_actor(platform, year) y debe devolver sólo el string con el nombre del actor que más se repite según la plataforma y el año dado."
      ],
      "metadata": {
        "id": "6U96LRrF72dW"
      }
    },
    {
      "cell_type": "code",
      "source": [
        "df1['elenco'].dropna(inplace=True)\n"
      ],
      "metadata": {
        "id": "Mz_gWP9JTV6B"
      },
      "execution_count": 203,
      "outputs": []
    },
    {
      "cell_type": "code",
      "source": [
        "df1['elenco'].isna().sum()"
      ],
      "metadata": {
        "colab": {
          "base_uri": "https://localhost:8080/"
        },
        "id": "LgNrSFfBXvNM",
        "outputId": "293cf6f8-05e2-4225-8d05-30736f77e55f"
      },
      "execution_count": 218,
      "outputs": [
        {
          "output_type": "execute_result",
          "data": {
            "text/plain": [
              "0"
            ]
          },
          "metadata": {},
          "execution_count": 218
        }
      ]
    },
    {
      "cell_type": "code",
      "source": [
        "df1['elenco'].unique()"
      ],
      "metadata": {
        "colab": {
          "base_uri": "https://localhost:8080/"
        },
        "id": "KISA5MWugV42",
        "outputId": "ba4f2585-e788-4a29-ce30-267353b8d39a"
      },
      "execution_count": 217,
      "outputs": [
        {
          "output_type": "execute_result",
          "data": {
            "text/plain": [
              "array(['brendan gleeson, taylor kitsch, gordon pinsent',\n",
              "       'mahesh manjrekar, abhay mahajan, sachin khedekar',\n",
              "       'tom sizemore, lorenzo lamas, robert lasardo, richard jones, yancey arias, noel gugliemi',\n",
              "       ...,\n",
              "       'jesse eisenberg, woody harrelson, emma stone, abigail breslin, amber heard, bill murray, derek graf',\n",
              "       'tim allen, courteney cox, chevy chase, kate mara, ryan newman, michael cassidy, spencer breslin, rip torn, kevin zegers',\n",
              "       'vicky kaushal, sarah-jane dias, raaghav chanana, manish chaudhary, meghna malik, malkeet rauni, anita shabdish, chittaranjan tripathy'],\n",
              "      dtype=object)"
            ]
          },
          "metadata": {},
          "execution_count": 217
        }
      ]
    },
    {
      "cell_type": "code",
      "source": [
        "def get_actor(platform, year):\n",
        "    # leer el archivo df1.csv en un DataFrame\n",
        "    \n",
        "\n",
        "    # filtrar por plataforma y año\n",
        "    df_filtered = df1[(df1[\"plataforma\"] == platform) & (df1[\"año_realiacion\"] == year)]\n",
        "\n",
        "    # contar la cantidad de veces que aparece cada actor\n",
        "    actor_count = df_filtered[\"elenco\"].str.split(\", \", expand=True).stack().value_counts()\n",
        "\n",
        "    # obtener el actor que más se repite\n",
        "    actor_most_common = actor_count.idxmax()\n",
        "\n",
        "    return   actor_most_common\n"
      ],
      "metadata": {
        "id": "ZsmDA4meQI9T"
      },
      "execution_count": 204,
      "outputs": []
    },
    {
      "cell_type": "code",
      "source": [
        "j = get_actor('disney', 2021)\n",
        "j"
      ],
      "metadata": {
        "colab": {
          "base_uri": "https://localhost:8080/",
          "height": 305
        },
        "id": "j-6PzX9XQQGE",
        "outputId": "4ea3792f-5f4a-4c26-904f-795c328d9919"
      },
      "execution_count": 219,
      "outputs": [
        {
          "output_type": "error",
          "ename": "AttributeError",
          "evalue": "ignored",
          "traceback": [
            "\u001b[0;31m---------------------------------------------------------------------------\u001b[0m",
            "\u001b[0;31mAttributeError\u001b[0m                            Traceback (most recent call last)",
            "\u001b[0;32m<ipython-input-219-0e1824f7c2ad>\u001b[0m in \u001b[0;36m<cell line: 1>\u001b[0;34m()\u001b[0m\n\u001b[0;32m----> 1\u001b[0;31m \u001b[0mj\u001b[0m \u001b[0;34m=\u001b[0m \u001b[0mget_actor\u001b[0m\u001b[0;34m(\u001b[0m\u001b[0;34m'disney'\u001b[0m\u001b[0;34m,\u001b[0m \u001b[0;36m2021\u001b[0m\u001b[0;34m)\u001b[0m\u001b[0;34m\u001b[0m\u001b[0;34m\u001b[0m\u001b[0m\n\u001b[0m\u001b[1;32m      2\u001b[0m \u001b[0mj\u001b[0m\u001b[0;34m\u001b[0m\u001b[0;34m\u001b[0m\u001b[0m\n",
            "\u001b[0;32m<ipython-input-197-5ffdaee33bc2>\u001b[0m in \u001b[0;36mget_actor\u001b[0;34m(platform, year)\u001b[0m\n\u001b[1;32m     20\u001b[0m \u001b[0;34m\u001b[0m\u001b[0m\n\u001b[1;32m     21\u001b[0m     \u001b[0;31m# Encontrar el actor que aparece más veces\u001b[0m\u001b[0;34m\u001b[0m\u001b[0;34m\u001b[0m\u001b[0m\n\u001b[0;32m---> 22\u001b[0;31m     \u001b[0mmost_common_actor\u001b[0m \u001b[0;34m=\u001b[0m \u001b[0mactor_counts\u001b[0m\u001b[0;34m.\u001b[0m\u001b[0mmax\u001b[0m\u001b[0;34m(\u001b[0m\u001b[0;34m)\u001b[0m\u001b[0;34m\u001b[0m\u001b[0;34m\u001b[0m\u001b[0m\n\u001b[0m\u001b[1;32m     23\u001b[0m \u001b[0;34m\u001b[0m\u001b[0m\n\u001b[1;32m     24\u001b[0m     \u001b[0;32mreturn\u001b[0m \u001b[0mmost_common_actor\u001b[0m\u001b[0;34m\u001b[0m\u001b[0;34m\u001b[0m\u001b[0m\n",
            "\u001b[0;31mAttributeError\u001b[0m: 'dict' object has no attribute 'max'"
          ]
        }
      ]
    },
    {
      "cell_type": "code",
      "source": [
        "def getactor(platform, year):\n",
        "   \n",
        "    # Filtrar las películas para la plataforma y año especificado\n",
        "    df_filtered = df1[(df1['plataforma'] == platform) & (df1['año_realiacion'] == year)]\n",
        "         \n",
        "    # Poner el cast en un array para poder hacer el recorrido\n",
        "    df_elenco_filtered= df_filtered.assign(actor=df_filtered.elenco.str.split(',')).explode('elenco')\n",
        "    \n",
        "    # Contar la cantidad de apariciones de cada actor\n",
        "    actor_count = df_elenco_filtered.elenco.value_counts()\n",
        "    \n",
        "    # Obtener el actor que más se repite y su cantidad de apariciones\n",
        "    max_actor = actor_count.index[0]\n",
        "    max_count = int(actor_count.iloc[0])\n",
        "    actor = dict({'actor': max_actor, 'count': max_count})\n",
        "\n",
        "    return actor"
      ],
      "metadata": {
        "id": "qeDH93RL9PtG"
      },
      "execution_count": 222,
      "outputs": []
    },
    {
      "cell_type": "code",
      "source": [
        "g =  getactor('amazon', 2018)\n",
        "g"
      ],
      "metadata": {
        "colab": {
          "base_uri": "https://localhost:8080/"
        },
        "id": "MgYafgAV-PUj",
        "outputId": "2da8badf-0ceb-4623-80af-f382b614c8a1"
      },
      "execution_count": 223,
      "outputs": [
        {
          "output_type": "execute_result",
          "data": {
            "text/plain": [
              "{'actor': 'nan', 'count': 83}"
            ]
          },
          "metadata": {},
          "execution_count": 223
        }
      ]
    },
    {
      "cell_type": "code",
      "source": [
        "df1['pais'].unique()"
      ],
      "metadata": {
        "id": "s58gFXZ0ivEk"
      },
      "execution_count": null,
      "outputs": []
    },
    {
      "cell_type": "markdown",
      "source": [
        "5)La cantidad de contenidos/productos (todo lo disponible en streaming) que se publicó por país y año. La función debe llamarse prod_per_county(tipo,pais,anio) deberia devolver la cantidada de contenidos/productos segun el tipo de contenido (pelicula,serie) por pais y año en un diccionario con las variables llamadas 'pais' (nombre del pais), 'anio' (año), 'pelicula' (cantidad de contenidos/productos)."
      ],
      "metadata": {
        "id": "Js9b6lEijRNX"
      }
    },
    {
      "cell_type": "code",
      "source": [
        "def prod_per_country(tipo, pais, anio):\n",
        "    # Filtrar el DataFrame\n",
        "    df_filt = df1[(df1['tipo'] == tipo) & (df1['pais'] == pais) & (df1['año_realiacion'] == anio)]\n",
        "    \n",
        "    # Agrupar por país y año y contar la cantidad de filas\n",
        "    count = df_filt.groupby(['pais', 'año_realiacion']).size().reset_index(name=f\"{tipo}\")\n",
        "    \n",
        "    # Crear un diccionario con los resultados\n",
        "    result = count[['pais', 'año_realiacion', f\"{tipo}\"]].to_dict('records')\n",
        "    \n",
        "    return result\n"
      ],
      "metadata": {
        "id": "YEpEwsABiKcm"
      },
      "execution_count": 225,
      "outputs": []
    },
    {
      "cell_type": "code",
      "source": [
        "b= prod_per_country('movie','canada',2020)\n",
        "b\n"
      ],
      "metadata": {
        "colab": {
          "base_uri": "https://localhost:8080/"
        },
        "id": "mNWEMIRBiSz3",
        "outputId": "3276ad58-3f79-48c1-c006-2cdb5b5a4fa4"
      },
      "execution_count": 228,
      "outputs": [
        {
          "output_type": "execute_result",
          "data": {
            "text/plain": [
              "[{'pais': 'canada', 'año_realiacion': 2020, 'movie': 18}]"
            ]
          },
          "metadata": {},
          "execution_count": 228
        }
      ]
    },
    {
      "cell_type": "markdown",
      "source": [
        "6)La cantidad total de contenidos/productos (todo lo disponible en streaming, series, peliculas, etc) según el rating de audiencia dado (para que publico fue clasificada la pelicula). La función debe llamarse get_contents(rating) y debe devolver el numero total de contenido con ese rating de audiencias."
      ],
      "metadata": {
        "id": "7aRYZtyMjZ4R"
      }
    },
    {
      "cell_type": "code",
      "source": [
        "def get_contents(rating, score):\n",
        "    # Obtener la cantidad de contenidos/productos por rating de audiencia\n",
        "    count_by_rating = df1['clasificacion'].value_counts()\n",
        "    \n",
        "    # Obtener la cantidad correspondiente al rating especificado en la función\n",
        "    count = count_by_rating[rating]\n",
        "    \n",
        "    return count\n"
      ],
      "metadata": {
        "id": "GbMsSxUfj_Wo"
      },
      "execution_count": 233,
      "outputs": []
    },
    {
      "cell_type": "code",
      "source": [
        "d = get_contents(2)\n",
        "d"
      ],
      "metadata": {
        "colab": {
          "base_uri": "https://localhost:8080/"
        },
        "id": "AkrGwZ07oLZF",
        "outputId": "b8f6f0be-14f3-41e9-bda9-06b32da8b2fb"
      },
      "execution_count": 234,
      "outputs": [
        {
          "output_type": "execute_result",
          "data": {
            "text/plain": [
              "2154"
            ]
          },
          "metadata": {},
          "execution_count": 234
        }
      ]
    }
  ],
  "metadata": {
    "kernelspec": {
      "display_name": "Python 3",
      "language": "python",
      "name": "python3"
    },
    "language_info": {
      "codemirror_mode": {
        "name": "ipython",
        "version": 3
      },
      "file_extension": ".py",
      "mimetype": "text/x-python",
      "name": "python",
      "nbconvert_exporter": "python",
      "pygments_lexer": "ipython3",
      "version": "3.10.10"
    },
    "orig_nbformat": 4,
    "colab": {
      "provenance": [],
      "include_colab_link": true
    }
  },
  "nbformat": 4,
  "nbformat_minor": 0
}